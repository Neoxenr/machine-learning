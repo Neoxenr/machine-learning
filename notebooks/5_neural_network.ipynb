{
 "cells": [
  {
   "cell_type": "code",
   "execution_count": 97,
   "metadata": {},
   "outputs": [],
   "source": [
    "from sklearn import datasets, model_selection,metrics\n",
    "import pandas as pd\n",
    "import numpy as np"
   ]
  },
  {
   "cell_type": "code",
   "execution_count": 2,
   "metadata": {},
   "outputs": [],
   "source": [
    "iris = datasets.load_iris()\n",
    "df_iris = pd.DataFrame(iris.data, columns=iris.feature_names)\n",
    "df_iris['target'] = pd.Series(iris.target)"
   ]
  },
  {
   "cell_type": "code",
   "execution_count": 3,
   "metadata": {},
   "outputs": [
    {
     "data": {
      "text/html": [
       "<div>\n",
       "<style scoped>\n",
       "    .dataframe tbody tr th:only-of-type {\n",
       "        vertical-align: middle;\n",
       "    }\n",
       "\n",
       "    .dataframe tbody tr th {\n",
       "        vertical-align: top;\n",
       "    }\n",
       "\n",
       "    .dataframe thead th {\n",
       "        text-align: right;\n",
       "    }\n",
       "</style>\n",
       "<table border=\"1\" class=\"dataframe\">\n",
       "  <thead>\n",
       "    <tr style=\"text-align: right;\">\n",
       "      <th></th>\n",
       "      <th>sepal length (cm)</th>\n",
       "      <th>sepal width (cm)</th>\n",
       "      <th>petal length (cm)</th>\n",
       "      <th>petal width (cm)</th>\n",
       "      <th>target</th>\n",
       "    </tr>\n",
       "  </thead>\n",
       "  <tbody>\n",
       "    <tr>\n",
       "      <th>0</th>\n",
       "      <td>5.1</td>\n",
       "      <td>3.5</td>\n",
       "      <td>1.4</td>\n",
       "      <td>0.2</td>\n",
       "      <td>0</td>\n",
       "    </tr>\n",
       "    <tr>\n",
       "      <th>1</th>\n",
       "      <td>4.9</td>\n",
       "      <td>3.0</td>\n",
       "      <td>1.4</td>\n",
       "      <td>0.2</td>\n",
       "      <td>0</td>\n",
       "    </tr>\n",
       "    <tr>\n",
       "      <th>2</th>\n",
       "      <td>4.7</td>\n",
       "      <td>3.2</td>\n",
       "      <td>1.3</td>\n",
       "      <td>0.2</td>\n",
       "      <td>0</td>\n",
       "    </tr>\n",
       "    <tr>\n",
       "      <th>3</th>\n",
       "      <td>4.6</td>\n",
       "      <td>3.1</td>\n",
       "      <td>1.5</td>\n",
       "      <td>0.2</td>\n",
       "      <td>0</td>\n",
       "    </tr>\n",
       "    <tr>\n",
       "      <th>4</th>\n",
       "      <td>5.0</td>\n",
       "      <td>3.6</td>\n",
       "      <td>1.4</td>\n",
       "      <td>0.2</td>\n",
       "      <td>0</td>\n",
       "    </tr>\n",
       "  </tbody>\n",
       "</table>\n",
       "</div>"
      ],
      "text/plain": [
       "   sepal length (cm)  sepal width (cm)  petal length (cm)  petal width (cm)  \\\n",
       "0                5.1               3.5                1.4               0.2   \n",
       "1                4.9               3.0                1.4               0.2   \n",
       "2                4.7               3.2                1.3               0.2   \n",
       "3                4.6               3.1                1.5               0.2   \n",
       "4                5.0               3.6                1.4               0.2   \n",
       "\n",
       "   target  \n",
       "0       0  \n",
       "1       0  \n",
       "2       0  \n",
       "3       0  \n",
       "4       0  "
      ]
     },
     "execution_count": 3,
     "metadata": {},
     "output_type": "execute_result"
    }
   ],
   "source": [
    "df_iris.head()"
   ]
  },
  {
   "cell_type": "code",
   "execution_count": 4,
   "metadata": {},
   "outputs": [],
   "source": [
    "y = df_iris['target'].values\n",
    "df_iris.pop('target')\n",
    "X = df_iris.values"
   ]
  },
  {
   "cell_type": "code",
   "execution_count": 5,
   "metadata": {},
   "outputs": [],
   "source": [
    "X_train, X_test, y_train, y_test = model_selection.train_test_split(X, y, test_size=0.2)"
   ]
  },
  {
   "cell_type": "code",
   "execution_count": 6,
   "metadata": {},
   "outputs": [],
   "source": [
    "def sigmoid(x):\n",
    "    return 1.0 / (1.0 + np.exp(-x))"
   ]
  },
  {
   "cell_type": "code",
   "execution_count": 7,
   "metadata": {},
   "outputs": [],
   "source": [
    "def sigmoid_derivative(x):\n",
    "    return x * (1 - x)"
   ]
  },
  {
   "cell_type": "code",
   "execution_count": 8,
   "metadata": {},
   "outputs": [],
   "source": [
    "def mse(y_pred, y_true):\n",
    "    return ((y_true - y_pred) ** 2).mean()"
   ]
  },
  {
   "cell_type": "code",
   "execution_count": 167,
   "metadata": {},
   "outputs": [],
   "source": [
    "class Perceptron:\n",
    "    def __init__(self, n_inputs, n_outputs, n_layers, n_neurons, activation=None, max_iter=1000, eta=0.1):\n",
    "        # количество входящих нейронов\n",
    "        self.n_inputs = n_inputs\n",
    "        # количество скрытых слоев\n",
    "        self.n_outputs = n_outputs\n",
    "        self.n_layers = n_layers\n",
    "        # количество нейронов на скрытом слое\n",
    "        self.n_neurons = n_neurons\n",
    "        # создание скрытых слоев\n",
    "        self.layers = []\n",
    "        self.activation = activation\n",
    "        self.max_iter = max_iter\n",
    "        self.eta = eta\n",
    "        \n",
    "    def create_layers(self):\n",
    "        n_inputs = self.n_inputs\n",
    "        # создание скрытых слоев\n",
    "        for i in range(self.n_layers):\n",
    "            self.layers.append(self.NeuronLayer(n_inputs, self.n_neurons))\n",
    "            n_inputs = self.n_neurons\n",
    "        # создание выходного слоя\n",
    "        self.layers.append(self.NeuronLayer(n_inputs, self.n_outputs))\n",
    "        \n",
    "    def back_propogation(self, error, values, X):\n",
    "        weights = 1\n",
    "        for i in reversed(range(len(self.layers))):\n",
    "            self.layers[i].delta = np.dot(error, np.transpose(weights))\n",
    "            derivative = np.transpose(sigmoid_derivative(values))\n",
    "            for j in range(self.layers[i].delta.shape[1]):\n",
    "                self.layers[i].delta[0][j] *= derivative[0][j]\n",
    "            if i == 0:\n",
    "                values = X\n",
    "            else:\n",
    "                values = self.layers[i - 1].values\n",
    "            values = values.reshape(-1, 1)\n",
    "            self.layers[i].weights -= self.eta * np.dot(values, self.layers[i].delta)\n",
    "            weights = self.layers[i].weights\n",
    "            error = self.layers[i].delta\n",
    "            \n",
    "    def get_weights(self):\n",
    "        weights = []\n",
    "        for layer in self.layers:\n",
    "            weights.append(layer.weights)\n",
    "        return weights\n",
    "            \n",
    "    def forward_propogation(self, x):\n",
    "        inputs = x\n",
    "        for layer in self.layers:\n",
    "            if self.activation is not None:\n",
    "                layer.values = self.activation(np.dot(inputs, layer.weights) + layer.b)\n",
    "            else:\n",
    "                layer.values = np.dot(inputs, layer.weights) + layer.b\n",
    "            inputs = layer.values\n",
    "        return inputs\n",
    "    \n",
    "    def fit(self, X, y):\n",
    "        self.create_layers()\n",
    "        for i in range(self.max_iter):\n",
    "            index = np.random.randint(0, X.shape[0])\n",
    "            inputs = X[index].reshape(1, -1)\n",
    "            outputs = self.forward_propogation(inputs)\n",
    "            error = outputs - y[index]\n",
    "            self.back_propogation(error, outputs, X[index])\n",
    "            \n",
    "    def predict(self, X):\n",
    "        outputs = np.ones((X.shape[0], 1))\n",
    "        for i in range(X.shape[0]):\n",
    "            outputs[i] = self.forward_propogation(X[i].reshape(1, -1))\n",
    "        return outputs\n",
    "            \n",
    "    class NeuronLayer:\n",
    "        def __init__(self, n_inputs, n_neurons):\n",
    "            self.weights = np.random.normal(loc=0, scale=0.1, size=(n_inputs, n_neurons))\n",
    "            self.values = []\n",
    "            self.delta = []\n",
    "            self.b = np.ones((1, n_neurons))"
   ]
  },
  {
   "cell_type": "code",
   "execution_count": 168,
   "metadata": {},
   "outputs": [],
   "source": [
    "perceptron = Perceptron(4, 1, 2, 2, sigmoid)\n",
    "perceptron.fit(X_train, y_train)"
   ]
  },
  {
   "cell_type": "code",
   "execution_count": 164,
   "metadata": {},
   "outputs": [],
   "source": [
    "y_pred = perceptron.predict(X_test)"
   ]
  },
  {
   "cell_type": "code",
   "execution_count": null,
   "metadata": {},
   "outputs": [],
   "source": []
  }
 ],
 "metadata": {
  "kernelspec": {
   "display_name": "Python 3",
   "language": "python",
   "name": "python3"
  },
  "language_info": {
   "codemirror_mode": {
    "name": "ipython",
    "version": 3
   },
   "file_extension": ".py",
   "mimetype": "text/x-python",
   "name": "python",
   "nbconvert_exporter": "python",
   "pygments_lexer": "ipython3",
   "version": "3.8.3"
  }
 },
 "nbformat": 4,
 "nbformat_minor": 4
}
