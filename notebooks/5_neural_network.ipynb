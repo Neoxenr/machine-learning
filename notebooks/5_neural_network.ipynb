{
 "cells": [
  {
   "cell_type": "code",
   "execution_count": 1,
   "metadata": {},
   "outputs": [],
   "source": [
    "from sklearn import datasets, model_selection, metrics\n",
    "from scipy.special import expit\n",
    "import pandas as pd\n",
    "import numpy as np"
   ]
  },
  {
   "cell_type": "markdown",
   "metadata": {},
   "source": [
    "# Функции активации и их производные"
   ]
  },
  {
   "cell_type": "code",
   "execution_count": 2,
   "metadata": {},
   "outputs": [],
   "source": [
    "# функция sigmoid\n",
    "def sigmoid(x):\n",
    "    return expit(x)"
   ]
  },
  {
   "cell_type": "code",
   "execution_count": 3,
   "metadata": {},
   "outputs": [],
   "source": [
    "# производная sigmoid\n",
    "def sigmoid_derivative(x):\n",
    "    return 1.0 * (1.0 - x)"
   ]
  },
  {
   "cell_type": "code",
   "execution_count": 4,
   "metadata": {},
   "outputs": [],
   "source": [
    "# функция ReLu\n",
    "def ReLu(x):\n",
    "    return np.maximum(0, x)"
   ]
  },
  {
   "cell_type": "code",
   "execution_count": 5,
   "metadata": {},
   "outputs": [],
   "source": [
    "# производная ReLu\n",
    "def ReLu_derivative(x):\n",
    "    return 1 * (x > 0)"
   ]
  },
  {
   "cell_type": "markdown",
   "metadata": {},
   "source": [
    "# Многослойный персептрон"
   ]
  },
  {
   "cell_type": "code",
   "execution_count": 6,
   "metadata": {},
   "outputs": [],
   "source": [
    "# Многослойный персептрон\n",
    "class Perceptron:\n",
    "    def __init__(self, n_inputs, n_outputs, n_layers, n_neurons, activation, derivative, max_iter=1000, eta=0.1):\n",
    "        # кол-во входящих нейронов\n",
    "        self.n_inputs = n_inputs\n",
    "        # кол-во выходящих нейрноов\n",
    "        self.n_outputs = n_outputs\n",
    "        # число слоев\n",
    "        self.n_layers = n_layers\n",
    "        # число нейронов у слоя\n",
    "        self.n_neurons = n_neurons\n",
    "        # функция активации\n",
    "        self.activation = activation\n",
    "        # производная функции активации\n",
    "        self.derivative = derivative\n",
    "        # кол-во эпох обучения\n",
    "        self.max_iter = max_iter\n",
    "        # коэффициент обучения\n",
    "        self.eta = eta\n",
    "        # список слоев\n",
    "        self.layers = []\n",
    "        # инициализации слоев\n",
    "        self.create_layers()\n",
    "        \n",
    "    # создание слоев    \n",
    "    def create_layers(self):\n",
    "        n_inputs = self.n_inputs\n",
    "        for i in range(self.n_layers):\n",
    "            self.layers.append(self.NeuronLayer(n_inputs, self.n_neurons))\n",
    "            n_inputs = self.n_neurons\n",
    "        self.layers.append(self.NeuronLayer(n_inputs, self.n_outputs))\n",
    "        \n",
    "    # прямое распространение\n",
    "    def forward_propogation(self, inputs):\n",
    "        for i in range(len(self.layers)):\n",
    "            self.layers[i].values = self.activation(np.dot(np.transpose(self.layers[i].weights), inputs) \n",
    "                                                    + self.layers[i].bias)\n",
    "            inputs = self.layers[i].values\n",
    "        return inputs\n",
    "    \n",
    "    # обратное распространение\n",
    "    def backward_propogation(self, inputs, error):\n",
    "        self.layers[len(self.layers) - 1].error = np.multiply(error, \n",
    "                                                              self.derivative(self.layers[len(self.layers) - 1].values))\n",
    "        \n",
    "        for i in reversed(range(len(self.layers) - 1)):\n",
    "            self.layers[i].error = np.multiply(np.dot(self.layers[i + 1].weights, self.layers[i + 1].error), \n",
    "                                               self.derivative(self.layers[i].values))\n",
    "            \n",
    "            \n",
    "        for i in range(len(self.layers)):\n",
    "            self.layers[i].weights_gradient = np.multiply(np.transpose(self.layers[i].error), inputs)\n",
    "            self.layers[i].bias_gradient = self.layers[i].error\n",
    "            inputs = self.layers[i].values\n",
    "        \n",
    "    # обучение сети\n",
    "    def fit(self, X, y):\n",
    "        for i in range(self.max_iter):\n",
    "            weights_gradient_epoch = []\n",
    "            bias_gradient_epoch = []\n",
    "            n_iter = np.random.randint(1, X.shape[0])\n",
    "            for j in range(len(self.layers)):\n",
    "                weights_gradient_epoch.append(np.zeros((self.layers[j].weights.shape[0], self.layers[j].weights.shape[1])))\n",
    "                bias_gradient_epoch.append(np.zeros((self.layers[j].bias.shape[0], self.layers[j].bias.shape[1])))\n",
    "            for j in range(n_iter):\n",
    "                index = np.random.randint(0, X.shape[0])\n",
    "                inputs = X[index].reshape(-1, 1)\n",
    "                outputs = self.forward_propogation(inputs)\n",
    "                temp = np.array([0] * self.n_outputs).reshape(-1, 1)\n",
    "                temp[y[index]] = 1\n",
    "                error = outputs - temp\n",
    "                self.backward_propogation(inputs, error)\n",
    "                for k in range(len(self.layers)):\n",
    "                    weights_gradient_epoch[k] += self.layers[k].weights_gradient\n",
    "                    bias_gradient_epoch[k] += self.layers[k].bias_gradient\n",
    "            for j in range(len(self.layers)):\n",
    "                weights_gradient_epoch[j] /= n_iter\n",
    "                self.layers[j].weights -= self.eta * weights_gradient_epoch[j]\n",
    "                bias_gradient_epoch[j] /= n_iter\n",
    "                self.layers[j].bias -= self.eta * bias_gradient_epoch[j]\n",
    "    \n",
    "    # предсказание значений\n",
    "    def predict(self, X):\n",
    "        outputs = np.zeros((X.shape[0], 1))\n",
    "        for i in range(X.shape[0]):\n",
    "            outputs[i] = self.forward_propogation(X[i].reshape(-1, 1)).argmax()\n",
    "        return outputs\n",
    "            \n",
    "    # нейронный слой\n",
    "    class NeuronLayer:\n",
    "        def __init__(self, n_inputs, n_neurons):\n",
    "            self.weights = np.random.normal(size=(n_inputs, n_neurons))\n",
    "            self.bias = np.random.normal(size=(n_neurons, 1))\n",
    "            self.weights_gradient = []\n",
    "            self.bias_gradient = []\n",
    "            self.values = []\n",
    "            self.error = []"
   ]
  },
  {
   "cell_type": "markdown",
   "metadata": {},
   "source": [
    "# Датасет iris"
   ]
  },
  {
   "cell_type": "code",
   "execution_count": 7,
   "metadata": {},
   "outputs": [],
   "source": [
    "# получение датасета\n",
    "iris = datasets.load_iris()\n",
    "# создание датафрейма под датасет\n",
    "df_iris = pd.DataFrame(iris.data, columns=iris.feature_names)\n",
    "# добавление целевого столбца\n",
    "df_iris['target'] = pd.Series(iris.target)"
   ]
  },
  {
   "cell_type": "code",
   "execution_count": 8,
   "metadata": {},
   "outputs": [
    {
     "data": {
      "text/html": [
       "<div>\n",
       "<style scoped>\n",
       "    .dataframe tbody tr th:only-of-type {\n",
       "        vertical-align: middle;\n",
       "    }\n",
       "\n",
       "    .dataframe tbody tr th {\n",
       "        vertical-align: top;\n",
       "    }\n",
       "\n",
       "    .dataframe thead th {\n",
       "        text-align: right;\n",
       "    }\n",
       "</style>\n",
       "<table border=\"1\" class=\"dataframe\">\n",
       "  <thead>\n",
       "    <tr style=\"text-align: right;\">\n",
       "      <th></th>\n",
       "      <th>sepal length (cm)</th>\n",
       "      <th>sepal width (cm)</th>\n",
       "      <th>petal length (cm)</th>\n",
       "      <th>petal width (cm)</th>\n",
       "      <th>target</th>\n",
       "    </tr>\n",
       "  </thead>\n",
       "  <tbody>\n",
       "    <tr>\n",
       "      <th>0</th>\n",
       "      <td>5.1</td>\n",
       "      <td>3.5</td>\n",
       "      <td>1.4</td>\n",
       "      <td>0.2</td>\n",
       "      <td>0</td>\n",
       "    </tr>\n",
       "    <tr>\n",
       "      <th>1</th>\n",
       "      <td>4.9</td>\n",
       "      <td>3.0</td>\n",
       "      <td>1.4</td>\n",
       "      <td>0.2</td>\n",
       "      <td>0</td>\n",
       "    </tr>\n",
       "    <tr>\n",
       "      <th>2</th>\n",
       "      <td>4.7</td>\n",
       "      <td>3.2</td>\n",
       "      <td>1.3</td>\n",
       "      <td>0.2</td>\n",
       "      <td>0</td>\n",
       "    </tr>\n",
       "    <tr>\n",
       "      <th>3</th>\n",
       "      <td>4.6</td>\n",
       "      <td>3.1</td>\n",
       "      <td>1.5</td>\n",
       "      <td>0.2</td>\n",
       "      <td>0</td>\n",
       "    </tr>\n",
       "    <tr>\n",
       "      <th>4</th>\n",
       "      <td>5.0</td>\n",
       "      <td>3.6</td>\n",
       "      <td>1.4</td>\n",
       "      <td>0.2</td>\n",
       "      <td>0</td>\n",
       "    </tr>\n",
       "  </tbody>\n",
       "</table>\n",
       "</div>"
      ],
      "text/plain": [
       "   sepal length (cm)  sepal width (cm)  petal length (cm)  petal width (cm)  \\\n",
       "0                5.1               3.5                1.4               0.2   \n",
       "1                4.9               3.0                1.4               0.2   \n",
       "2                4.7               3.2                1.3               0.2   \n",
       "3                4.6               3.1                1.5               0.2   \n",
       "4                5.0               3.6                1.4               0.2   \n",
       "\n",
       "   target  \n",
       "0       0  \n",
       "1       0  \n",
       "2       0  \n",
       "3       0  \n",
       "4       0  "
      ]
     },
     "execution_count": 8,
     "metadata": {},
     "output_type": "execute_result"
    }
   ],
   "source": [
    "# первые 5 записей из датафрейма\n",
    "df_iris.head()"
   ]
  },
  {
   "cell_type": "code",
   "execution_count": 9,
   "metadata": {},
   "outputs": [],
   "source": [
    "# получение целевых меток\n",
    "y = df_iris['target'].values\n",
    "# удаление целевого столбца из датафрейма\n",
    "df_iris.pop('target')\n",
    "# получение признаков\n",
    "X = df_iris.values"
   ]
  },
  {
   "cell_type": "code",
   "execution_count": 10,
   "metadata": {},
   "outputs": [],
   "source": [
    "# разделение на обучающуюся и тестовую выборки\n",
    "X_train, X_test, y_train, y_test = model_selection.train_test_split(X, y, test_size=0.20)"
   ]
  },
  {
   "cell_type": "markdown",
   "metadata": {},
   "source": [
    "## Обучение моделей"
   ]
  },
  {
   "cell_type": "markdown",
   "metadata": {},
   "source": [
    "### Multilayer perceptron"
   ]
  },
  {
   "cell_type": "code",
   "execution_count": 25,
   "metadata": {},
   "outputs": [
    {
     "name": "stdout",
     "output_type": "stream",
     "text": [
      "Wall time: 4.62 s\n"
     ]
    }
   ],
   "source": [
    "%%time\n",
    "# Обучение модели\n",
    "perceptron = Perceptron(X.shape[1], 3, 2, 2, sigmoid, sigmoid_derivative)\n",
    "perceptron.fit(X_train, y_train)"
   ]
  },
  {
   "cell_type": "markdown",
   "metadata": {},
   "source": [
    "###  K-Nearest Neighbors"
   ]
  },
  {
   "cell_type": "code",
   "execution_count": 12,
   "metadata": {},
   "outputs": [
    {
     "name": "stdout",
     "output_type": "stream",
     "text": [
      "Wall time: 170 ms\n"
     ]
    },
    {
     "data": {
      "text/plain": [
       "KNeighborsClassifier(n_neighbors=3)"
      ]
     },
     "execution_count": 12,
     "metadata": {},
     "output_type": "execute_result"
    }
   ],
   "source": [
    "%%time\n",
    "from sklearn.neighbors import KNeighborsClassifier\n",
    "# Обучение модели\n",
    "clf = KNeighborsClassifier(n_neighbors=3)\n",
    "clf.fit(X_train, y_train)"
   ]
  },
  {
   "cell_type": "markdown",
   "metadata": {},
   "source": [
    "### Decision Tree Classifier"
   ]
  },
  {
   "cell_type": "code",
   "execution_count": 13,
   "metadata": {},
   "outputs": [
    {
     "name": "stdout",
     "output_type": "stream",
     "text": [
      "Wall time: 34.8 ms\n"
     ]
    },
    {
     "data": {
      "text/plain": [
       "DecisionTreeClassifier()"
      ]
     },
     "execution_count": 13,
     "metadata": {},
     "output_type": "execute_result"
    }
   ],
   "source": [
    "%%time\n",
    "from sklearn import tree\n",
    "# Обучение модели\n",
    "clf = tree.DecisionTreeClassifier()\n",
    "clf.fit(X_train, y_train)"
   ]
  },
  {
   "cell_type": "markdown",
   "metadata": {},
   "source": [
    "### Naive Bayes Classifier"
   ]
  },
  {
   "cell_type": "code",
   "execution_count": 14,
   "metadata": {},
   "outputs": [
    {
     "name": "stdout",
     "output_type": "stream",
     "text": [
      "Wall time: 4 ms\n"
     ]
    },
    {
     "data": {
      "text/plain": [
       "GaussianNB()"
      ]
     },
     "execution_count": 14,
     "metadata": {},
     "output_type": "execute_result"
    }
   ],
   "source": [
    "%%time\n",
    "from sklearn.naive_bayes import GaussianNB\n",
    "# Обучение модели\n",
    "clf = GaussianNB()\n",
    "clf.fit(X_train, y_train)"
   ]
  },
  {
   "cell_type": "markdown",
   "metadata": {},
   "source": [
    "### Support Vector Machines"
   ]
  },
  {
   "cell_type": "code",
   "execution_count": 15,
   "metadata": {},
   "outputs": [
    {
     "name": "stdout",
     "output_type": "stream",
     "text": [
      "Wall time: 13.5 ms\n"
     ]
    },
    {
     "name": "stderr",
     "output_type": "stream",
     "text": [
      "C:\\Users\\vano_\\anaconda3\\lib\\site-packages\\sklearn\\svm\\_base.py:976: ConvergenceWarning: Liblinear failed to converge, increase the number of iterations.\n",
      "  warnings.warn(\"Liblinear failed to converge, increase \"\n"
     ]
    },
    {
     "data": {
      "text/plain": [
       "LinearSVC()"
      ]
     },
     "execution_count": 15,
     "metadata": {},
     "output_type": "execute_result"
    }
   ],
   "source": [
    "%%time\n",
    "from sklearn import svm\n",
    "# Обучение модели\n",
    "clf = svm.LinearSVC()\n",
    "clf.fit(X_train, y_train)"
   ]
  },
  {
   "cell_type": "markdown",
   "metadata": {},
   "source": [
    "### Logistic Regression"
   ]
  },
  {
   "cell_type": "code",
   "execution_count": 16,
   "metadata": {},
   "outputs": [
    {
     "name": "stdout",
     "output_type": "stream",
     "text": [
      "Wall time: 72.8 ms\n"
     ]
    },
    {
     "name": "stderr",
     "output_type": "stream",
     "text": [
      "C:\\Users\\vano_\\anaconda3\\lib\\site-packages\\sklearn\\linear_model\\_logistic.py:762: ConvergenceWarning: lbfgs failed to converge (status=1):\n",
      "STOP: TOTAL NO. of ITERATIONS REACHED LIMIT.\n",
      "\n",
      "Increase the number of iterations (max_iter) or scale the data as shown in:\n",
      "    https://scikit-learn.org/stable/modules/preprocessing.html\n",
      "Please also refer to the documentation for alternative solver options:\n",
      "    https://scikit-learn.org/stable/modules/linear_model.html#logistic-regression\n",
      "  n_iter_i = _check_optimize_result(\n"
     ]
    },
    {
     "data": {
      "text/plain": [
       "LogisticRegression()"
      ]
     },
     "execution_count": 16,
     "metadata": {},
     "output_type": "execute_result"
    }
   ],
   "source": [
    "%%time\n",
    "from sklearn.linear_model import LogisticRegression\n",
    "# Обучение модели\n",
    "clf = LogisticRegression()\n",
    "clf.fit(X_train, y_train)"
   ]
  },
  {
   "cell_type": "markdown",
   "metadata": {},
   "source": [
    "## Сравнение качества и времени работы моделей и MLP"
   ]
  },
  {
   "cell_type": "code",
   "execution_count": 17,
   "metadata": {},
   "outputs": [],
   "source": [
    "from sklearn.metrics import classification_report, confusion_matrix"
   ]
  },
  {
   "cell_type": "markdown",
   "metadata": {},
   "source": [
    "### Multilayer Perceptron и K-Nearest Neighbors"
   ]
  },
  {
   "cell_type": "code",
   "execution_count": 26,
   "metadata": {},
   "outputs": [
    {
     "name": "stdout",
     "output_type": "stream",
     "text": [
      "[[ 0 10  0]\n",
      " [ 0 10  0]\n",
      " [ 0  5  5]]\n",
      "              precision    recall  f1-score   support\n",
      "\n",
      "           0       0.00      0.00      0.00        10\n",
      "           1       0.40      1.00      0.57        10\n",
      "           2       1.00      0.50      0.67        10\n",
      "\n",
      "    accuracy                           0.50        30\n",
      "   macro avg       0.47      0.50      0.41        30\n",
      "weighted avg       0.47      0.50      0.41        30\n",
      "\n"
     ]
    }
   ],
   "source": [
    "# предсказанные значения\n",
    "y_pred = perceptron.predict(X_test)\n",
    "# матрицы характеристик\n",
    "print(confusion_matrix(y_test, y_pred))\n",
    "print(classification_report(y_test, y_pred))"
   ]
  },
  {
   "cell_type": "code",
   "execution_count": 27,
   "metadata": {},
   "outputs": [
    {
     "name": "stdout",
     "output_type": "stream",
     "text": [
      "[[10  0  0]\n",
      " [ 0  9  1]\n",
      " [ 0  0 10]]\n",
      "              precision    recall  f1-score   support\n",
      "\n",
      "           0       1.00      1.00      1.00        10\n",
      "           1       1.00      0.90      0.95        10\n",
      "           2       0.91      1.00      0.95        10\n",
      "\n",
      "    accuracy                           0.97        30\n",
      "   macro avg       0.97      0.97      0.97        30\n",
      "weighted avg       0.97      0.97      0.97        30\n",
      "\n"
     ]
    }
   ],
   "source": [
    "# предсказанные значения\n",
    "y_pred = clf.predict(X_test)\n",
    "# матрицы характеристик\n",
    "print(confusion_matrix(y_test, y_pred))\n",
    "print(classification_report(y_test, y_pred))"
   ]
  },
  {
   "cell_type": "markdown",
   "metadata": {},
   "source": [
    "Время работы MLP - 4.62 s\n",
    "\n",
    "Время работы K-Nearest Neighbors - 170 ms\n",
    "\n",
    "K-Nearest Neighbors работает быстрее, чем MLP\n",
    "\n",
    "Качество работы K-Nearest Neighbors лучше, чем у MLP"
   ]
  },
  {
   "cell_type": "markdown",
   "metadata": {},
   "source": [
    "### Multilayer Perceptron и Decision Tree Classifier"
   ]
  },
  {
   "cell_type": "code",
   "execution_count": 28,
   "metadata": {},
   "outputs": [
    {
     "name": "stdout",
     "output_type": "stream",
     "text": [
      "[[ 0 10  0]\n",
      " [ 0 10  0]\n",
      " [ 0  5  5]]\n",
      "              precision    recall  f1-score   support\n",
      "\n",
      "           0       0.00      0.00      0.00        10\n",
      "           1       0.40      1.00      0.57        10\n",
      "           2       1.00      0.50      0.67        10\n",
      "\n",
      "    accuracy                           0.50        30\n",
      "   macro avg       0.47      0.50      0.41        30\n",
      "weighted avg       0.47      0.50      0.41        30\n",
      "\n"
     ]
    },
    {
     "name": "stderr",
     "output_type": "stream",
     "text": [
      "C:\\Users\\vano_\\anaconda3\\lib\\site-packages\\sklearn\\metrics\\_classification.py:1221: UndefinedMetricWarning: Precision and F-score are ill-defined and being set to 0.0 in labels with no predicted samples. Use `zero_division` parameter to control this behavior.\n",
      "  _warn_prf(average, modifier, msg_start, len(result))\n"
     ]
    }
   ],
   "source": [
    "# предсказанные значения\n",
    "y_pred = perceptron.predict(X_test)\n",
    "# матрицы характеристик\n",
    "print(confusion_matrix(y_test, y_pred))\n",
    "print(classification_report(y_test, y_pred))"
   ]
  },
  {
   "cell_type": "code",
   "execution_count": 29,
   "metadata": {},
   "outputs": [
    {
     "name": "stdout",
     "output_type": "stream",
     "text": [
      "[[10  0  0]\n",
      " [ 0  9  1]\n",
      " [ 0  0 10]]\n",
      "              precision    recall  f1-score   support\n",
      "\n",
      "           0       1.00      1.00      1.00        10\n",
      "           1       1.00      0.90      0.95        10\n",
      "           2       0.91      1.00      0.95        10\n",
      "\n",
      "    accuracy                           0.97        30\n",
      "   macro avg       0.97      0.97      0.97        30\n",
      "weighted avg       0.97      0.97      0.97        30\n",
      "\n"
     ]
    }
   ],
   "source": [
    "# предсказанные значения\n",
    "y_pred = clf.predict(X_test)\n",
    "# матрицы характеристик\n",
    "print(confusion_matrix(y_test, y_pred))\n",
    "print(classification_report(y_test, y_pred))"
   ]
  },
  {
   "cell_type": "markdown",
   "metadata": {},
   "source": [
    "Время работы MLP - 4.62 s\n",
    "\n",
    "Время работы Decision Tree Classifier - 34.8 ms\n",
    "\n",
    "Decision Tree Classifier работает быстрее, чем MLP\n",
    "\n",
    "Качество работы Decision Tree Classifier лучше, чем у MLP"
   ]
  },
  {
   "cell_type": "markdown",
   "metadata": {},
   "source": [
    "### Multilayer Perceptron и Naive Bayes Classifier"
   ]
  },
  {
   "cell_type": "code",
   "execution_count": 30,
   "metadata": {},
   "outputs": [
    {
     "name": "stdout",
     "output_type": "stream",
     "text": [
      "[[ 0 10  0]\n",
      " [ 0 10  0]\n",
      " [ 0  5  5]]\n",
      "              precision    recall  f1-score   support\n",
      "\n",
      "           0       0.00      0.00      0.00        10\n",
      "           1       0.40      1.00      0.57        10\n",
      "           2       1.00      0.50      0.67        10\n",
      "\n",
      "    accuracy                           0.50        30\n",
      "   macro avg       0.47      0.50      0.41        30\n",
      "weighted avg       0.47      0.50      0.41        30\n",
      "\n"
     ]
    },
    {
     "name": "stderr",
     "output_type": "stream",
     "text": [
      "C:\\Users\\vano_\\anaconda3\\lib\\site-packages\\sklearn\\metrics\\_classification.py:1221: UndefinedMetricWarning: Precision and F-score are ill-defined and being set to 0.0 in labels with no predicted samples. Use `zero_division` parameter to control this behavior.\n",
      "  _warn_prf(average, modifier, msg_start, len(result))\n"
     ]
    }
   ],
   "source": [
    "# предсказанные значения\n",
    "y_pred = perceptron.predict(X_test)\n",
    "# матрицы характеристик\n",
    "print(confusion_matrix(y_test, y_pred))\n",
    "print(classification_report(y_test, y_pred))"
   ]
  },
  {
   "cell_type": "code",
   "execution_count": 31,
   "metadata": {},
   "outputs": [
    {
     "name": "stdout",
     "output_type": "stream",
     "text": [
      "[[10  0  0]\n",
      " [ 0  9  1]\n",
      " [ 0  0 10]]\n",
      "              precision    recall  f1-score   support\n",
      "\n",
      "           0       1.00      1.00      1.00        10\n",
      "           1       1.00      0.90      0.95        10\n",
      "           2       0.91      1.00      0.95        10\n",
      "\n",
      "    accuracy                           0.97        30\n",
      "   macro avg       0.97      0.97      0.97        30\n",
      "weighted avg       0.97      0.97      0.97        30\n",
      "\n"
     ]
    }
   ],
   "source": [
    "# предсказанные значения\n",
    "y_pred = clf.predict(X_test)\n",
    "# матрицы характеристик\n",
    "print(confusion_matrix(y_test, y_pred))\n",
    "print(classification_report(y_test, y_pred))"
   ]
  },
  {
   "cell_type": "markdown",
   "metadata": {},
   "source": [
    "Время работы MLP - 4.62 s\n",
    "\n",
    "Время работы Naive Bayes Classifier - 4 ms\n",
    "\n",
    "Naive Bayes Classifier работает быстрее, чем MLP\n",
    "\n",
    "Качество работы Naive Bayes Classifier лучше, чем у MLP"
   ]
  },
  {
   "cell_type": "markdown",
   "metadata": {},
   "source": [
    "### Multilayer Perceptron и Support Vector Machines"
   ]
  },
  {
   "cell_type": "code",
   "execution_count": 32,
   "metadata": {},
   "outputs": [
    {
     "name": "stdout",
     "output_type": "stream",
     "text": [
      "[[ 0 10  0]\n",
      " [ 0 10  0]\n",
      " [ 0  5  5]]\n",
      "              precision    recall  f1-score   support\n",
      "\n",
      "           0       0.00      0.00      0.00        10\n",
      "           1       0.40      1.00      0.57        10\n",
      "           2       1.00      0.50      0.67        10\n",
      "\n",
      "    accuracy                           0.50        30\n",
      "   macro avg       0.47      0.50      0.41        30\n",
      "weighted avg       0.47      0.50      0.41        30\n",
      "\n"
     ]
    },
    {
     "name": "stderr",
     "output_type": "stream",
     "text": [
      "C:\\Users\\vano_\\anaconda3\\lib\\site-packages\\sklearn\\metrics\\_classification.py:1221: UndefinedMetricWarning: Precision and F-score are ill-defined and being set to 0.0 in labels with no predicted samples. Use `zero_division` parameter to control this behavior.\n",
      "  _warn_prf(average, modifier, msg_start, len(result))\n"
     ]
    }
   ],
   "source": [
    "# предсказанные значения\n",
    "y_pred = perceptron.predict(X_test)\n",
    "# матрицы характеристик\n",
    "print(confusion_matrix(y_test, y_pred))\n",
    "print(classification_report(y_test, y_pred))"
   ]
  },
  {
   "cell_type": "code",
   "execution_count": 33,
   "metadata": {},
   "outputs": [
    {
     "name": "stdout",
     "output_type": "stream",
     "text": [
      "[[10  0  0]\n",
      " [ 0  9  1]\n",
      " [ 0  0 10]]\n",
      "              precision    recall  f1-score   support\n",
      "\n",
      "           0       1.00      1.00      1.00        10\n",
      "           1       1.00      0.90      0.95        10\n",
      "           2       0.91      1.00      0.95        10\n",
      "\n",
      "    accuracy                           0.97        30\n",
      "   macro avg       0.97      0.97      0.97        30\n",
      "weighted avg       0.97      0.97      0.97        30\n",
      "\n"
     ]
    }
   ],
   "source": [
    "# предсказанные значения\n",
    "y_pred = clf.predict(X_test)\n",
    "# матрицы характеристик\n",
    "print(confusion_matrix(y_test, y_pred))\n",
    "print(classification_report(y_test, y_pred))"
   ]
  },
  {
   "cell_type": "markdown",
   "metadata": {},
   "source": [
    "Время работы MLP - 4.62 s\n",
    "\n",
    "Время работы Support Vector Machines - 13.5 ms\n",
    "\n",
    "Support Vector Machines работает быстрее, чем MLP\n",
    "\n",
    "Качество работы Support Vector Machines лучше, чем у MLP"
   ]
  },
  {
   "cell_type": "markdown",
   "metadata": {},
   "source": [
    "### Multilayer Perceptron и Logistic Regression"
   ]
  },
  {
   "cell_type": "code",
   "execution_count": 34,
   "metadata": {},
   "outputs": [
    {
     "name": "stdout",
     "output_type": "stream",
     "text": [
      "[[ 0 10  0]\n",
      " [ 0 10  0]\n",
      " [ 0  5  5]]\n",
      "              precision    recall  f1-score   support\n",
      "\n",
      "           0       0.00      0.00      0.00        10\n",
      "           1       0.40      1.00      0.57        10\n",
      "           2       1.00      0.50      0.67        10\n",
      "\n",
      "    accuracy                           0.50        30\n",
      "   macro avg       0.47      0.50      0.41        30\n",
      "weighted avg       0.47      0.50      0.41        30\n",
      "\n"
     ]
    },
    {
     "name": "stderr",
     "output_type": "stream",
     "text": [
      "C:\\Users\\vano_\\anaconda3\\lib\\site-packages\\sklearn\\metrics\\_classification.py:1221: UndefinedMetricWarning: Precision and F-score are ill-defined and being set to 0.0 in labels with no predicted samples. Use `zero_division` parameter to control this behavior.\n",
      "  _warn_prf(average, modifier, msg_start, len(result))\n"
     ]
    }
   ],
   "source": [
    "# предсказанные значения\n",
    "y_pred = perceptron.predict(X_test)\n",
    "# матрицы характеристик\n",
    "print(confusion_matrix(y_test, y_pred))\n",
    "print(classification_report(y_test, y_pred))"
   ]
  },
  {
   "cell_type": "code",
   "execution_count": 35,
   "metadata": {},
   "outputs": [
    {
     "name": "stdout",
     "output_type": "stream",
     "text": [
      "[[10  0  0]\n",
      " [ 0  9  1]\n",
      " [ 0  0 10]]\n",
      "              precision    recall  f1-score   support\n",
      "\n",
      "           0       1.00      1.00      1.00        10\n",
      "           1       1.00      0.90      0.95        10\n",
      "           2       0.91      1.00      0.95        10\n",
      "\n",
      "    accuracy                           0.97        30\n",
      "   macro avg       0.97      0.97      0.97        30\n",
      "weighted avg       0.97      0.97      0.97        30\n",
      "\n"
     ]
    }
   ],
   "source": [
    "# предсказанные значения\n",
    "y_pred = clf.predict(X_test)\n",
    "# матрицы характеристик\n",
    "print(confusion_matrix(y_test, y_pred))\n",
    "print(classification_report(y_test, y_pred))"
   ]
  },
  {
   "cell_type": "markdown",
   "metadata": {},
   "source": [
    "Время работы MLP - 4.62 s\n",
    "\n",
    "Время работы Logistic Regression - 72.8 ms\n",
    "\n",
    "Logistic Regression работает быстрее, чем MLP\n",
    "\n",
    "Качество работы Logistic Regression лучше, чем у MLP"
   ]
  },
  {
   "cell_type": "markdown",
   "metadata": {},
   "source": [
    "# Датасет titanic"
   ]
  },
  {
   "cell_type": "code",
   "execution_count": 36,
   "metadata": {},
   "outputs": [],
   "source": [
    "# получение датасета\n",
    "df_titanic = pd.read_csv('../data/titanic.csv')"
   ]
  },
  {
   "cell_type": "code",
   "execution_count": 37,
   "metadata": {},
   "outputs": [
    {
     "data": {
      "text/html": [
       "<div>\n",
       "<style scoped>\n",
       "    .dataframe tbody tr th:only-of-type {\n",
       "        vertical-align: middle;\n",
       "    }\n",
       "\n",
       "    .dataframe tbody tr th {\n",
       "        vertical-align: top;\n",
       "    }\n",
       "\n",
       "    .dataframe thead th {\n",
       "        text-align: right;\n",
       "    }\n",
       "</style>\n",
       "<table border=\"1\" class=\"dataframe\">\n",
       "  <thead>\n",
       "    <tr style=\"text-align: right;\">\n",
       "      <th></th>\n",
       "      <th>PassengerID</th>\n",
       "      <th>Name</th>\n",
       "      <th>PClass</th>\n",
       "      <th>Age</th>\n",
       "      <th>Sex</th>\n",
       "      <th>Survived</th>\n",
       "      <th>SexCode</th>\n",
       "    </tr>\n",
       "  </thead>\n",
       "  <tbody>\n",
       "    <tr>\n",
       "      <th>0</th>\n",
       "      <td>1</td>\n",
       "      <td>Allen, Miss Elisabeth Walton</td>\n",
       "      <td>1st</td>\n",
       "      <td>29.00</td>\n",
       "      <td>female</td>\n",
       "      <td>1</td>\n",
       "      <td>1</td>\n",
       "    </tr>\n",
       "    <tr>\n",
       "      <th>1</th>\n",
       "      <td>2</td>\n",
       "      <td>Allison, Miss Helen Loraine</td>\n",
       "      <td>1st</td>\n",
       "      <td>2.00</td>\n",
       "      <td>female</td>\n",
       "      <td>0</td>\n",
       "      <td>1</td>\n",
       "    </tr>\n",
       "    <tr>\n",
       "      <th>2</th>\n",
       "      <td>3</td>\n",
       "      <td>Allison, Mr Hudson Joshua Creighton</td>\n",
       "      <td>1st</td>\n",
       "      <td>30.00</td>\n",
       "      <td>male</td>\n",
       "      <td>0</td>\n",
       "      <td>0</td>\n",
       "    </tr>\n",
       "    <tr>\n",
       "      <th>3</th>\n",
       "      <td>4</td>\n",
       "      <td>Allison, Mrs Hudson JC (Bessie Waldo Daniels)</td>\n",
       "      <td>1st</td>\n",
       "      <td>25.00</td>\n",
       "      <td>female</td>\n",
       "      <td>0</td>\n",
       "      <td>1</td>\n",
       "    </tr>\n",
       "    <tr>\n",
       "      <th>4</th>\n",
       "      <td>5</td>\n",
       "      <td>Allison, Master Hudson Trevor</td>\n",
       "      <td>1st</td>\n",
       "      <td>0.92</td>\n",
       "      <td>male</td>\n",
       "      <td>1</td>\n",
       "      <td>0</td>\n",
       "    </tr>\n",
       "  </tbody>\n",
       "</table>\n",
       "</div>"
      ],
      "text/plain": [
       "   PassengerID                                           Name PClass    Age  \\\n",
       "0            1                   Allen, Miss Elisabeth Walton    1st  29.00   \n",
       "1            2                    Allison, Miss Helen Loraine    1st   2.00   \n",
       "2            3            Allison, Mr Hudson Joshua Creighton    1st  30.00   \n",
       "3            4  Allison, Mrs Hudson JC (Bessie Waldo Daniels)    1st  25.00   \n",
       "4            5                  Allison, Master Hudson Trevor    1st   0.92   \n",
       "\n",
       "      Sex  Survived  SexCode  \n",
       "0  female         1        1  \n",
       "1  female         0        1  \n",
       "2    male         0        0  \n",
       "3  female         0        1  \n",
       "4    male         1        0  "
      ]
     },
     "execution_count": 37,
     "metadata": {},
     "output_type": "execute_result"
    }
   ],
   "source": [
    "# первые 5 записей\n",
    "df_titanic.head()"
   ]
  },
  {
   "cell_type": "code",
   "execution_count": 38,
   "metadata": {},
   "outputs": [
    {
     "data": {
      "text/plain": [
       "PassengerID      0\n",
       "Name             0\n",
       "PClass           0\n",
       "Age            557\n",
       "Sex              0\n",
       "Survived         0\n",
       "SexCode          0\n",
       "dtype: int64"
      ]
     },
     "execution_count": 38,
     "metadata": {},
     "output_type": "execute_result"
    }
   ],
   "source": [
    "# кол-во пропущенных элементов\n",
    "df_titanic.isnull().sum()"
   ]
  },
  {
   "cell_type": "code",
   "execution_count": 39,
   "metadata": {},
   "outputs": [],
   "source": [
    "# выбрасывание пропущенных значений\n",
    "df_titanic = df_titanic.dropna()"
   ]
  },
  {
   "cell_type": "code",
   "execution_count": 40,
   "metadata": {},
   "outputs": [
    {
     "data": {
      "text/plain": [
       "PassengerID    0\n",
       "Name           0\n",
       "PClass         0\n",
       "Age            0\n",
       "Sex            0\n",
       "Survived       0\n",
       "SexCode        0\n",
       "dtype: int64"
      ]
     },
     "execution_count": 40,
     "metadata": {},
     "output_type": "execute_result"
    }
   ],
   "source": [
    "# кол-во пропущенных элементов\n",
    "df_titanic.isnull().sum()"
   ]
  },
  {
   "cell_type": "code",
   "execution_count": 41,
   "metadata": {},
   "outputs": [],
   "source": [
    "# кодирование категориальных признаков\n",
    "mapping = {'1st': 1,\n",
    "           '2nd': 2,\n",
    "           '3rd': 3 }\n",
    "\n",
    "df_titanic['PClass'] = df_titanic['PClass'].map(mapping)"
   ]
  },
  {
   "cell_type": "code",
   "execution_count": 42,
   "metadata": {},
   "outputs": [],
   "source": [
    "# кодирование категориальных признаков\n",
    "mapping = {'female': 0,\n",
    "            'male': 1 }\n",
    "df_titanic['Sex'] = df_titanic['Sex'].map(mapping)"
   ]
  },
  {
   "cell_type": "code",
   "execution_count": 43,
   "metadata": {},
   "outputs": [
    {
     "data": {
      "text/plain": [
       "0          1\n",
       "1          2\n",
       "2          3\n",
       "3          4\n",
       "4          5\n",
       "        ... \n",
       "1308    1309\n",
       "1309    1310\n",
       "1310    1311\n",
       "1311    1312\n",
       "1312    1313\n",
       "Name: PassengerID, Length: 756, dtype: int64"
      ]
     },
     "execution_count": 43,
     "metadata": {},
     "output_type": "execute_result"
    }
   ],
   "source": [
    "# удаление из датафрейма столбца 'PassengerID'\n",
    "df_titanic.pop('PassengerID')"
   ]
  },
  {
   "cell_type": "code",
   "execution_count": 44,
   "metadata": {},
   "outputs": [
    {
     "data": {
      "text/plain": [
       "0                        Allen, Miss Elisabeth Walton\n",
       "1                         Allison, Miss Helen Loraine\n",
       "2                 Allison, Mr Hudson Joshua Creighton\n",
       "3       Allison, Mrs Hudson JC (Bessie Waldo Daniels)\n",
       "4                       Allison, Master Hudson Trevor\n",
       "                            ...                      \n",
       "1308                               Zakarian, Mr Artun\n",
       "1309                           Zakarian, Mr Maprieder\n",
       "1310                                 Zenni, Mr Philip\n",
       "1311                                 Lievens, Mr Rene\n",
       "1312                                   Zimmerman, Leo\n",
       "Name: Name, Length: 756, dtype: object"
      ]
     },
     "execution_count": 44,
     "metadata": {},
     "output_type": "execute_result"
    }
   ],
   "source": [
    "# удаление из датафрейма столбца 'Name'\n",
    "df_titanic.pop('Name')"
   ]
  },
  {
   "cell_type": "code",
   "execution_count": 45,
   "metadata": {},
   "outputs": [
    {
     "data": {
      "text/html": [
       "<div>\n",
       "<style scoped>\n",
       "    .dataframe tbody tr th:only-of-type {\n",
       "        vertical-align: middle;\n",
       "    }\n",
       "\n",
       "    .dataframe tbody tr th {\n",
       "        vertical-align: top;\n",
       "    }\n",
       "\n",
       "    .dataframe thead th {\n",
       "        text-align: right;\n",
       "    }\n",
       "</style>\n",
       "<table border=\"1\" class=\"dataframe\">\n",
       "  <thead>\n",
       "    <tr style=\"text-align: right;\">\n",
       "      <th></th>\n",
       "      <th>PClass</th>\n",
       "      <th>Age</th>\n",
       "      <th>Sex</th>\n",
       "      <th>Survived</th>\n",
       "      <th>SexCode</th>\n",
       "    </tr>\n",
       "  </thead>\n",
       "  <tbody>\n",
       "    <tr>\n",
       "      <th>0</th>\n",
       "      <td>1</td>\n",
       "      <td>29.00</td>\n",
       "      <td>0</td>\n",
       "      <td>1</td>\n",
       "      <td>1</td>\n",
       "    </tr>\n",
       "    <tr>\n",
       "      <th>1</th>\n",
       "      <td>1</td>\n",
       "      <td>2.00</td>\n",
       "      <td>0</td>\n",
       "      <td>0</td>\n",
       "      <td>1</td>\n",
       "    </tr>\n",
       "    <tr>\n",
       "      <th>2</th>\n",
       "      <td>1</td>\n",
       "      <td>30.00</td>\n",
       "      <td>1</td>\n",
       "      <td>0</td>\n",
       "      <td>0</td>\n",
       "    </tr>\n",
       "    <tr>\n",
       "      <th>3</th>\n",
       "      <td>1</td>\n",
       "      <td>25.00</td>\n",
       "      <td>0</td>\n",
       "      <td>0</td>\n",
       "      <td>1</td>\n",
       "    </tr>\n",
       "    <tr>\n",
       "      <th>4</th>\n",
       "      <td>1</td>\n",
       "      <td>0.92</td>\n",
       "      <td>1</td>\n",
       "      <td>1</td>\n",
       "      <td>0</td>\n",
       "    </tr>\n",
       "  </tbody>\n",
       "</table>\n",
       "</div>"
      ],
      "text/plain": [
       "   PClass    Age  Sex  Survived  SexCode\n",
       "0       1  29.00    0         1        1\n",
       "1       1   2.00    0         0        1\n",
       "2       1  30.00    1         0        0\n",
       "3       1  25.00    0         0        1\n",
       "4       1   0.92    1         1        0"
      ]
     },
     "execution_count": 45,
     "metadata": {},
     "output_type": "execute_result"
    }
   ],
   "source": [
    "# первые 5 записей\n",
    "df_titanic.head()"
   ]
  },
  {
   "cell_type": "code",
   "execution_count": 46,
   "metadata": {},
   "outputs": [],
   "source": [
    "# матрица признаков и столбец меток\n",
    "y = df_titanic['Survived'].values\n",
    "df_titanic.pop('Survived')\n",
    "X = df_titanic.values"
   ]
  },
  {
   "cell_type": "code",
   "execution_count": 47,
   "metadata": {},
   "outputs": [],
   "source": [
    "# разделение выборки на обучающуюся и тестовую\n",
    "X_train, X_test, y_train, y_test = model_selection.train_test_split(X, y, test_size=0.2)"
   ]
  },
  {
   "cell_type": "markdown",
   "metadata": {},
   "source": [
    "## Обучение моделей"
   ]
  },
  {
   "cell_type": "markdown",
   "metadata": {},
   "source": [
    "### Multilayer perceptron"
   ]
  },
  {
   "cell_type": "code",
   "execution_count": 48,
   "metadata": {},
   "outputs": [
    {
     "name": "stdout",
     "output_type": "stream",
     "text": [
      "Wall time: 21.9 s\n"
     ]
    }
   ],
   "source": [
    "%%time\n",
    "# обучение модели\n",
    "perceptron = Perceptron(X.shape[1], 2, 2, 2, sigmoid, sigmoid_derivative)\n",
    "perceptron.fit(X_train, y_train)"
   ]
  },
  {
   "cell_type": "markdown",
   "metadata": {},
   "source": [
    "###  K-Nearest Neighbors"
   ]
  },
  {
   "cell_type": "code",
   "execution_count": 49,
   "metadata": {},
   "outputs": [
    {
     "name": "stdout",
     "output_type": "stream",
     "text": [
      "Wall time: 7.51 ms\n"
     ]
    },
    {
     "data": {
      "text/plain": [
       "KNeighborsClassifier(n_neighbors=3)"
      ]
     },
     "execution_count": 49,
     "metadata": {},
     "output_type": "execute_result"
    }
   ],
   "source": [
    "%%time\n",
    "from sklearn.neighbors import KNeighborsClassifier\n",
    "# обучение модели\n",
    "clf = KNeighborsClassifier(n_neighbors=3)\n",
    "clf.fit(X_train, y_train)"
   ]
  },
  {
   "cell_type": "markdown",
   "metadata": {},
   "source": [
    "### Decision Tree Classifier"
   ]
  },
  {
   "cell_type": "code",
   "execution_count": 50,
   "metadata": {},
   "outputs": [
    {
     "name": "stdout",
     "output_type": "stream",
     "text": [
      "Wall time: 2 ms\n"
     ]
    },
    {
     "data": {
      "text/plain": [
       "DecisionTreeClassifier()"
      ]
     },
     "execution_count": 50,
     "metadata": {},
     "output_type": "execute_result"
    }
   ],
   "source": [
    "%%time\n",
    "from sklearn import tree\n",
    "# обучение модели\n",
    "clf = tree.DecisionTreeClassifier()\n",
    "clf.fit(X_train, y_train)"
   ]
  },
  {
   "cell_type": "markdown",
   "metadata": {},
   "source": [
    "### Naive Bayes Classifier"
   ]
  },
  {
   "cell_type": "code",
   "execution_count": 51,
   "metadata": {},
   "outputs": [
    {
     "name": "stdout",
     "output_type": "stream",
     "text": [
      "Wall time: 7.07 ms\n"
     ]
    },
    {
     "data": {
      "text/plain": [
       "GaussianNB()"
      ]
     },
     "execution_count": 51,
     "metadata": {},
     "output_type": "execute_result"
    }
   ],
   "source": [
    "%%time\n",
    "from sklearn.naive_bayes import GaussianNB\n",
    "# обучение модели\n",
    "clf = GaussianNB()\n",
    "clf.fit(X_train, y_train)"
   ]
  },
  {
   "cell_type": "markdown",
   "metadata": {},
   "source": [
    "### Support Vector Machines"
   ]
  },
  {
   "cell_type": "code",
   "execution_count": 52,
   "metadata": {},
   "outputs": [
    {
     "name": "stdout",
     "output_type": "stream",
     "text": [
      "Wall time: 16 ms\n"
     ]
    },
    {
     "name": "stderr",
     "output_type": "stream",
     "text": [
      "C:\\Users\\vano_\\anaconda3\\lib\\site-packages\\sklearn\\svm\\_base.py:976: ConvergenceWarning: Liblinear failed to converge, increase the number of iterations.\n",
      "  warnings.warn(\"Liblinear failed to converge, increase \"\n"
     ]
    },
    {
     "data": {
      "text/plain": [
       "LinearSVC()"
      ]
     },
     "execution_count": 52,
     "metadata": {},
     "output_type": "execute_result"
    }
   ],
   "source": [
    "%%time\n",
    "from sklearn import svm\n",
    "# обучение модели\n",
    "clf = svm.LinearSVC()\n",
    "clf.fit(X_train, y_train)"
   ]
  },
  {
   "cell_type": "markdown",
   "metadata": {},
   "source": [
    "### Logistic Regression"
   ]
  },
  {
   "cell_type": "code",
   "execution_count": 53,
   "metadata": {},
   "outputs": [
    {
     "name": "stdout",
     "output_type": "stream",
     "text": [
      "Wall time: 18 ms\n"
     ]
    },
    {
     "data": {
      "text/plain": [
       "LogisticRegression()"
      ]
     },
     "execution_count": 53,
     "metadata": {},
     "output_type": "execute_result"
    }
   ],
   "source": [
    "%%time\n",
    "from sklearn.linear_model import LogisticRegression\n",
    "# обучение модели\n",
    "clf = LogisticRegression()\n",
    "clf.fit(X_train, y_train)"
   ]
  },
  {
   "cell_type": "markdown",
   "metadata": {},
   "source": [
    "## Сравнение качества и времени работы моделей и MLP"
   ]
  },
  {
   "cell_type": "code",
   "execution_count": 54,
   "metadata": {},
   "outputs": [],
   "source": [
    "from sklearn.metrics import classification_report, confusion_matrix"
   ]
  },
  {
   "cell_type": "markdown",
   "metadata": {},
   "source": [
    "### Multilayer Perceptron и K-Nearest Neighbors"
   ]
  },
  {
   "cell_type": "code",
   "execution_count": 55,
   "metadata": {},
   "outputs": [
    {
     "name": "stdout",
     "output_type": "stream",
     "text": [
      "[[88  2]\n",
      " [57  5]]\n",
      "              precision    recall  f1-score   support\n",
      "\n",
      "           0       0.61      0.98      0.75        90\n",
      "           1       0.71      0.08      0.14        62\n",
      "\n",
      "    accuracy                           0.61       152\n",
      "   macro avg       0.66      0.53      0.45       152\n",
      "weighted avg       0.65      0.61      0.50       152\n",
      "\n"
     ]
    }
   ],
   "source": [
    "# предсказанные значения\n",
    "y_pred = perceptron.predict(X_test)\n",
    "# матрицы характеристик\n",
    "print(confusion_matrix(y_test, y_pred))\n",
    "print(classification_report(y_test, y_pred))"
   ]
  },
  {
   "cell_type": "code",
   "execution_count": 56,
   "metadata": {},
   "outputs": [
    {
     "name": "stdout",
     "output_type": "stream",
     "text": [
      "[[72 18]\n",
      " [22 40]]\n",
      "              precision    recall  f1-score   support\n",
      "\n",
      "           0       0.77      0.80      0.78        90\n",
      "           1       0.69      0.65      0.67        62\n",
      "\n",
      "    accuracy                           0.74       152\n",
      "   macro avg       0.73      0.72      0.72       152\n",
      "weighted avg       0.73      0.74      0.74       152\n",
      "\n"
     ]
    }
   ],
   "source": [
    "# предсказанные значения\n",
    "y_pred = clf.predict(X_test)\n",
    "# матрицы характеристик\n",
    "print(confusion_matrix(y_test, y_pred))\n",
    "print(classification_report(y_test, y_pred))"
   ]
  },
  {
   "cell_type": "markdown",
   "metadata": {},
   "source": [
    "Время работы MLP - 21.9 s\n",
    "\n",
    "Время работы K-Nearest Neighbors - 7.51 ms\n",
    "\n",
    "K-Nearest Neighbors работает быстрее, чем MLP\n",
    "\n",
    "Качество работы K-Nearest Neighbors лучше, чем у MLP"
   ]
  },
  {
   "cell_type": "markdown",
   "metadata": {},
   "source": [
    "### Multilayer Perceptron и Decision Tree Classifier"
   ]
  },
  {
   "cell_type": "code",
   "execution_count": 57,
   "metadata": {},
   "outputs": [
    {
     "name": "stdout",
     "output_type": "stream",
     "text": [
      "[[88  2]\n",
      " [57  5]]\n",
      "              precision    recall  f1-score   support\n",
      "\n",
      "           0       0.61      0.98      0.75        90\n",
      "           1       0.71      0.08      0.14        62\n",
      "\n",
      "    accuracy                           0.61       152\n",
      "   macro avg       0.66      0.53      0.45       152\n",
      "weighted avg       0.65      0.61      0.50       152\n",
      "\n"
     ]
    }
   ],
   "source": [
    "# предсказанные значения\n",
    "y_pred = perceptron.predict(X_test)\n",
    "# матрицы характеристик\n",
    "print(confusion_matrix(y_test, y_pred))\n",
    "print(classification_report(y_test, y_pred))"
   ]
  },
  {
   "cell_type": "code",
   "execution_count": 58,
   "metadata": {},
   "outputs": [
    {
     "name": "stdout",
     "output_type": "stream",
     "text": [
      "[[72 18]\n",
      " [22 40]]\n",
      "              precision    recall  f1-score   support\n",
      "\n",
      "           0       0.77      0.80      0.78        90\n",
      "           1       0.69      0.65      0.67        62\n",
      "\n",
      "    accuracy                           0.74       152\n",
      "   macro avg       0.73      0.72      0.72       152\n",
      "weighted avg       0.73      0.74      0.74       152\n",
      "\n"
     ]
    }
   ],
   "source": [
    "# предсказанные значения\n",
    "y_pred = clf.predict(X_test)\n",
    "# матрицы характеристик\n",
    "print(confusion_matrix(y_test, y_pred))\n",
    "print(classification_report(y_test, y_pred))"
   ]
  },
  {
   "cell_type": "markdown",
   "metadata": {},
   "source": [
    "Время работы MLP - 21.9 s\n",
    "\n",
    "Время работы Decision Tree Classifier - 2 ms\n",
    "\n",
    "Decision Tree Classifier работает быстрее, чем MLP\n",
    "\n",
    "Качество работы Decision Tree Classifier лучше, чем у MLP"
   ]
  },
  {
   "cell_type": "markdown",
   "metadata": {},
   "source": [
    "### Multilayer Perceptron и Naive Bayes Classifier"
   ]
  },
  {
   "cell_type": "code",
   "execution_count": 59,
   "metadata": {},
   "outputs": [
    {
     "name": "stdout",
     "output_type": "stream",
     "text": [
      "[[88  2]\n",
      " [57  5]]\n",
      "              precision    recall  f1-score   support\n",
      "\n",
      "           0       0.61      0.98      0.75        90\n",
      "           1       0.71      0.08      0.14        62\n",
      "\n",
      "    accuracy                           0.61       152\n",
      "   macro avg       0.66      0.53      0.45       152\n",
      "weighted avg       0.65      0.61      0.50       152\n",
      "\n"
     ]
    }
   ],
   "source": [
    "# предсказанные значения\n",
    "y_pred = perceptron.predict(X_test)\n",
    "# матрицы характеристик\n",
    "print(confusion_matrix(y_test, y_pred))\n",
    "print(classification_report(y_test, y_pred))"
   ]
  },
  {
   "cell_type": "code",
   "execution_count": 60,
   "metadata": {},
   "outputs": [
    {
     "name": "stdout",
     "output_type": "stream",
     "text": [
      "[[72 18]\n",
      " [22 40]]\n",
      "              precision    recall  f1-score   support\n",
      "\n",
      "           0       0.77      0.80      0.78        90\n",
      "           1       0.69      0.65      0.67        62\n",
      "\n",
      "    accuracy                           0.74       152\n",
      "   macro avg       0.73      0.72      0.72       152\n",
      "weighted avg       0.73      0.74      0.74       152\n",
      "\n"
     ]
    }
   ],
   "source": [
    "# предсказанные значения\n",
    "y_pred = clf.predict(X_test)\n",
    "# матрицы характеристик\n",
    "print(confusion_matrix(y_test, y_pred))\n",
    "print(classification_report(y_test, y_pred))"
   ]
  },
  {
   "cell_type": "markdown",
   "metadata": {},
   "source": [
    "Время работы MLP - 21.9 s\n",
    "\n",
    "Время работы Naive Bayes Classifier - 7.07 ms\n",
    "\n",
    "Naive Bayes Classifier работает быстрее, чем MLP\n",
    "\n",
    "Качество работы Naive Bayes Classifier лучше, чем у MLP"
   ]
  },
  {
   "cell_type": "markdown",
   "metadata": {},
   "source": [
    "### Multilayer Perceptron и Support Vector Machines"
   ]
  },
  {
   "cell_type": "code",
   "execution_count": 61,
   "metadata": {},
   "outputs": [
    {
     "name": "stdout",
     "output_type": "stream",
     "text": [
      "[[88  2]\n",
      " [57  5]]\n",
      "              precision    recall  f1-score   support\n",
      "\n",
      "           0       0.61      0.98      0.75        90\n",
      "           1       0.71      0.08      0.14        62\n",
      "\n",
      "    accuracy                           0.61       152\n",
      "   macro avg       0.66      0.53      0.45       152\n",
      "weighted avg       0.65      0.61      0.50       152\n",
      "\n"
     ]
    }
   ],
   "source": [
    "# предсказанные значения\n",
    "y_pred = perceptron.predict(X_test)\n",
    "# матрицы характеристик\n",
    "print(confusion_matrix(y_test, y_pred))\n",
    "print(classification_report(y_test, y_pred))"
   ]
  },
  {
   "cell_type": "code",
   "execution_count": 62,
   "metadata": {},
   "outputs": [
    {
     "name": "stdout",
     "output_type": "stream",
     "text": [
      "[[72 18]\n",
      " [22 40]]\n",
      "              precision    recall  f1-score   support\n",
      "\n",
      "           0       0.77      0.80      0.78        90\n",
      "           1       0.69      0.65      0.67        62\n",
      "\n",
      "    accuracy                           0.74       152\n",
      "   macro avg       0.73      0.72      0.72       152\n",
      "weighted avg       0.73      0.74      0.74       152\n",
      "\n"
     ]
    }
   ],
   "source": [
    "# предсказанные значения\n",
    "y_pred = clf.predict(X_test)\n",
    "# матрицы характеристик\n",
    "print(confusion_matrix(y_test, y_pred))\n",
    "print(classification_report(y_test, y_pred))"
   ]
  },
  {
   "cell_type": "markdown",
   "metadata": {},
   "source": [
    "Время работы MLP - 21.9 s\n",
    "\n",
    "Время работы Support Vector Machines - 16 ms\n",
    "\n",
    "Support Vector Machines работает быстрее, чем MLP\n",
    "\n",
    "Качество работы Support Vector Machines лучше, чем у MLP"
   ]
  },
  {
   "cell_type": "markdown",
   "metadata": {},
   "source": [
    "### Multilayer Perceptron и Logistic Regression"
   ]
  },
  {
   "cell_type": "code",
   "execution_count": 64,
   "metadata": {},
   "outputs": [
    {
     "name": "stdout",
     "output_type": "stream",
     "text": [
      "[[88  2]\n",
      " [57  5]]\n",
      "              precision    recall  f1-score   support\n",
      "\n",
      "           0       0.61      0.98      0.75        90\n",
      "           1       0.71      0.08      0.14        62\n",
      "\n",
      "    accuracy                           0.61       152\n",
      "   macro avg       0.66      0.53      0.45       152\n",
      "weighted avg       0.65      0.61      0.50       152\n",
      "\n"
     ]
    }
   ],
   "source": [
    "# предсказанные значения\n",
    "y_pred = perceptron.predict(X_test)\n",
    "# матрицы характеристик\n",
    "print(confusion_matrix(y_test, y_pred))\n",
    "print(classification_report(y_test, y_pred))"
   ]
  },
  {
   "cell_type": "code",
   "execution_count": 65,
   "metadata": {},
   "outputs": [
    {
     "name": "stdout",
     "output_type": "stream",
     "text": [
      "[[72 18]\n",
      " [22 40]]\n",
      "              precision    recall  f1-score   support\n",
      "\n",
      "           0       0.77      0.80      0.78        90\n",
      "           1       0.69      0.65      0.67        62\n",
      "\n",
      "    accuracy                           0.74       152\n",
      "   macro avg       0.73      0.72      0.72       152\n",
      "weighted avg       0.73      0.74      0.74       152\n",
      "\n"
     ]
    }
   ],
   "source": [
    "# предсказанные значения\n",
    "y_pred = clf.predict(X_test)\n",
    "# матрицы характеристик\n",
    "print(confusion_matrix(y_test, y_pred))\n",
    "print(classification_report(y_test, y_pred))"
   ]
  },
  {
   "cell_type": "markdown",
   "metadata": {},
   "source": [
    "Время работы MLP - 21.9 s\n",
    "\n",
    "Время работы Logistic Regression - 18 ms\n",
    "\n",
    "Logistic Regression работает быстрее, чем MLP\n",
    "\n",
    "Качество работы Logistic Regression лучше, чем у MLP"
   ]
  }
 ],
 "metadata": {
  "kernelspec": {
   "display_name": "Python 3",
   "language": "python",
   "name": "python3"
  },
  "language_info": {
   "codemirror_mode": {
    "name": "ipython",
    "version": 3
   },
   "file_extension": ".py",
   "mimetype": "text/x-python",
   "name": "python",
   "nbconvert_exporter": "python",
   "pygments_lexer": "ipython3",
   "version": "3.8.3"
  }
 },
 "nbformat": 4,
 "nbformat_minor": 4
}
