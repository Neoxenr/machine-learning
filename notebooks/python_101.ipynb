{
 "cells": [
  {
   "cell_type": "markdown",
   "metadata": {},
   "source": [
    "Дано два листа.\n",
    "Написать функцию возвращающую уникальные элементы, которые встречаются и в первом, и во втором листе. \n",
    "На входе: первый и второй лист. \n",
    "На выходе: лист элементов. \n",
    "Решение оформить в виде функции и вызывающего её кода."
   ]
  },
  {
   "cell_type": "code",
   "execution_count": 2,
   "metadata": {},
   "outputs": [],
   "source": [
    "def getUniqueElements(list1, list2):\n",
    "    return sorted(list(set(list1+list2)))"
   ]
  },
  {
   "cell_type": "code",
   "execution_count": 3,
   "metadata": {},
   "outputs": [
    {
     "name": "stdout",
     "output_type": "stream",
     "text": [
      "5 1 Яблоко 2 Тыква 8 0 1 4 5 6 7 2.5\n",
      "2 1 4 5 7 2.8 Апельсин Ананас 4 5 6\n"
     ]
    }
   ],
   "source": [
    "list1 = list(map(str, input().split()))\n",
    "list2 = list(map(str, input().split()))"
   ]
  },
  {
   "cell_type": "code",
   "execution_count": 4,
   "metadata": {},
   "outputs": [
    {
     "name": "stdout",
     "output_type": "stream",
     "text": [
      "['0', '1', '2', '2.5', '2.8', '4', '5', '6', '7', '8', 'Ананас', 'Апельсин', 'Тыква', 'Яблоко']\n"
     ]
    }
   ],
   "source": [
    "print(getUniqueElements(list1, list2))"
   ]
  }
 ],
 "metadata": {
  "kernelspec": {
   "display_name": "Python 3",
   "language": "python",
   "name": "python3"
  },
  "language_info": {
   "codemirror_mode": {
    "name": "ipython",
    "version": 3
   },
   "file_extension": ".py",
   "mimetype": "text/x-python",
   "name": "python",
   "nbconvert_exporter": "python",
   "pygments_lexer": "ipython3",
   "version": "3.8.3"
  }
 },
 "nbformat": 4,
 "nbformat_minor": 4
}
