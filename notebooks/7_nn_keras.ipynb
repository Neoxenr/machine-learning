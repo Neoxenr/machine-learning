{
 "cells": [
  {
   "cell_type": "markdown",
   "metadata": {
    "id": "sec-05W6TT8h"
   },
   "source": [
    "# Загрузка и подготовка данных"
   ]
  },
  {
   "cell_type": "markdown",
   "metadata": {},
   "source": [
    "https://colab.research.google.com/drive/1b51ZyZMPVqfJTKUpCGbu4Ep1wLhjJoUk?usp=sharing"
   ]
  },
  {
   "cell_type": "code",
   "execution_count": 1,
   "metadata": {
    "id": "7iLAgKPkTT8j"
   },
   "outputs": [],
   "source": [
    "from sklearn import model_selection, metrics\n",
    "import pandas as pd"
   ]
  },
  {
   "cell_type": "code",
   "execution_count": 2,
   "metadata": {
    "id": "Medp8sBSTT8l"
   },
   "outputs": [],
   "source": [
    "# получение датасета\n",
    "df = pd.read_csv(\"../data/weather_preprocessed.csv\")"
   ]
  },
  {
   "cell_type": "code",
   "execution_count": 3,
   "metadata": {
    "colab": {
     "base_uri": "https://localhost:8080/",
     "height": 244
    },
    "id": "9d5HVlQmTT8m",
    "outputId": "999badfb-78de-42a0-d19f-b6f25801e08c"
   },
   "outputs": [
    {
     "data": {
      "text/html": [
       "<div>\n",
       "<style scoped>\n",
       "    .dataframe tbody tr th:only-of-type {\n",
       "        vertical-align: middle;\n",
       "    }\n",
       "\n",
       "    .dataframe tbody tr th {\n",
       "        vertical-align: top;\n",
       "    }\n",
       "\n",
       "    .dataframe thead th {\n",
       "        text-align: right;\n",
       "    }\n",
       "</style>\n",
       "<table border=\"1\" class=\"dataframe\">\n",
       "  <thead>\n",
       "    <tr style=\"text-align: right;\">\n",
       "      <th></th>\n",
       "      <th>MinTemp</th>\n",
       "      <th>MaxTemp</th>\n",
       "      <th>Rainfall</th>\n",
       "      <th>Evaporation</th>\n",
       "      <th>Sunshine</th>\n",
       "      <th>WindGustSpeed</th>\n",
       "      <th>WindSpeed9am</th>\n",
       "      <th>WindSpeed3pm</th>\n",
       "      <th>Humidity9am</th>\n",
       "      <th>Humidity3pm</th>\n",
       "      <th>Pressure9am</th>\n",
       "      <th>Pressure3pm</th>\n",
       "      <th>Cloud9am</th>\n",
       "      <th>Cloud3pm</th>\n",
       "      <th>Temp9am</th>\n",
       "      <th>Temp3pm</th>\n",
       "      <th>RainToday</th>\n",
       "      <th>RainTomorrow</th>\n",
       "      <th>Year</th>\n",
       "      <th>Month</th>\n",
       "      <th>Day</th>\n",
       "      <th>Location_Adelaide</th>\n",
       "      <th>Location_Albany</th>\n",
       "      <th>Location_Albury</th>\n",
       "      <th>Location_AliceSprings</th>\n",
       "      <th>Location_BadgerysCreek</th>\n",
       "      <th>Location_Ballarat</th>\n",
       "      <th>Location_Bendigo</th>\n",
       "      <th>Location_Brisbane</th>\n",
       "      <th>Location_Cairns</th>\n",
       "      <th>Location_Canberra</th>\n",
       "      <th>Location_Cobar</th>\n",
       "      <th>Location_CoffsHarbour</th>\n",
       "      <th>Location_Dartmoor</th>\n",
       "      <th>Location_Darwin</th>\n",
       "      <th>Location_GoldCoast</th>\n",
       "      <th>Location_Hobart</th>\n",
       "      <th>Location_Katherine</th>\n",
       "      <th>Location_Launceston</th>\n",
       "      <th>Location_Melbourne</th>\n",
       "      <th>...</th>\n",
       "      <th>WindGustDir_SSW</th>\n",
       "      <th>WindGustDir_SW</th>\n",
       "      <th>WindGustDir_W</th>\n",
       "      <th>WindGustDir_WNW</th>\n",
       "      <th>WindGustDir_WSW</th>\n",
       "      <th>WindGustDir_without_value</th>\n",
       "      <th>WindDir9am_E</th>\n",
       "      <th>WindDir9am_ENE</th>\n",
       "      <th>WindDir9am_ESE</th>\n",
       "      <th>WindDir9am_N</th>\n",
       "      <th>WindDir9am_NE</th>\n",
       "      <th>WindDir9am_NNE</th>\n",
       "      <th>WindDir9am_NNW</th>\n",
       "      <th>WindDir9am_NW</th>\n",
       "      <th>WindDir9am_S</th>\n",
       "      <th>WindDir9am_SE</th>\n",
       "      <th>WindDir9am_SSE</th>\n",
       "      <th>WindDir9am_SSW</th>\n",
       "      <th>WindDir9am_SW</th>\n",
       "      <th>WindDir9am_W</th>\n",
       "      <th>WindDir9am_WNW</th>\n",
       "      <th>WindDir9am_WSW</th>\n",
       "      <th>WindDir9am_without_value</th>\n",
       "      <th>WindDir3pm_E</th>\n",
       "      <th>WindDir3pm_ENE</th>\n",
       "      <th>WindDir3pm_ESE</th>\n",
       "      <th>WindDir3pm_N</th>\n",
       "      <th>WindDir3pm_NE</th>\n",
       "      <th>WindDir3pm_NNE</th>\n",
       "      <th>WindDir3pm_NNW</th>\n",
       "      <th>WindDir3pm_NW</th>\n",
       "      <th>WindDir3pm_S</th>\n",
       "      <th>WindDir3pm_SE</th>\n",
       "      <th>WindDir3pm_SSE</th>\n",
       "      <th>WindDir3pm_SSW</th>\n",
       "      <th>WindDir3pm_SW</th>\n",
       "      <th>WindDir3pm_W</th>\n",
       "      <th>WindDir3pm_WNW</th>\n",
       "      <th>WindDir3pm_WSW</th>\n",
       "      <th>WindDir3pm_without_value</th>\n",
       "    </tr>\n",
       "  </thead>\n",
       "  <tbody>\n",
       "    <tr>\n",
       "      <th>0</th>\n",
       "      <td>13.4</td>\n",
       "      <td>22.9</td>\n",
       "      <td>0.6</td>\n",
       "      <td>5.468232</td>\n",
       "      <td>7.611178</td>\n",
       "      <td>44.0</td>\n",
       "      <td>20.0</td>\n",
       "      <td>24.0</td>\n",
       "      <td>71.0</td>\n",
       "      <td>22.0</td>\n",
       "      <td>1007.7</td>\n",
       "      <td>1007.1</td>\n",
       "      <td>8.000000</td>\n",
       "      <td>4.50993</td>\n",
       "      <td>16.9</td>\n",
       "      <td>21.8</td>\n",
       "      <td>0</td>\n",
       "      <td>0</td>\n",
       "      <td>2008</td>\n",
       "      <td>12</td>\n",
       "      <td>1</td>\n",
       "      <td>0</td>\n",
       "      <td>0</td>\n",
       "      <td>1</td>\n",
       "      <td>0</td>\n",
       "      <td>0</td>\n",
       "      <td>0</td>\n",
       "      <td>0</td>\n",
       "      <td>0</td>\n",
       "      <td>0</td>\n",
       "      <td>0</td>\n",
       "      <td>0</td>\n",
       "      <td>0</td>\n",
       "      <td>0</td>\n",
       "      <td>0</td>\n",
       "      <td>0</td>\n",
       "      <td>0</td>\n",
       "      <td>0</td>\n",
       "      <td>0</td>\n",
       "      <td>0</td>\n",
       "      <td>...</td>\n",
       "      <td>0</td>\n",
       "      <td>0</td>\n",
       "      <td>1</td>\n",
       "      <td>0</td>\n",
       "      <td>0</td>\n",
       "      <td>0</td>\n",
       "      <td>0</td>\n",
       "      <td>0</td>\n",
       "      <td>0</td>\n",
       "      <td>0</td>\n",
       "      <td>0</td>\n",
       "      <td>0</td>\n",
       "      <td>0</td>\n",
       "      <td>0</td>\n",
       "      <td>0</td>\n",
       "      <td>0</td>\n",
       "      <td>0</td>\n",
       "      <td>0</td>\n",
       "      <td>0</td>\n",
       "      <td>1</td>\n",
       "      <td>0</td>\n",
       "      <td>0</td>\n",
       "      <td>0</td>\n",
       "      <td>0</td>\n",
       "      <td>0</td>\n",
       "      <td>0</td>\n",
       "      <td>0</td>\n",
       "      <td>0</td>\n",
       "      <td>0</td>\n",
       "      <td>0</td>\n",
       "      <td>0</td>\n",
       "      <td>0</td>\n",
       "      <td>0</td>\n",
       "      <td>0</td>\n",
       "      <td>0</td>\n",
       "      <td>0</td>\n",
       "      <td>0</td>\n",
       "      <td>1</td>\n",
       "      <td>0</td>\n",
       "      <td>0</td>\n",
       "    </tr>\n",
       "    <tr>\n",
       "      <th>1</th>\n",
       "      <td>7.4</td>\n",
       "      <td>25.1</td>\n",
       "      <td>0.0</td>\n",
       "      <td>5.468232</td>\n",
       "      <td>7.611178</td>\n",
       "      <td>44.0</td>\n",
       "      <td>4.0</td>\n",
       "      <td>22.0</td>\n",
       "      <td>44.0</td>\n",
       "      <td>25.0</td>\n",
       "      <td>1010.6</td>\n",
       "      <td>1007.8</td>\n",
       "      <td>4.447461</td>\n",
       "      <td>4.50993</td>\n",
       "      <td>17.2</td>\n",
       "      <td>24.3</td>\n",
       "      <td>0</td>\n",
       "      <td>0</td>\n",
       "      <td>2008</td>\n",
       "      <td>12</td>\n",
       "      <td>2</td>\n",
       "      <td>0</td>\n",
       "      <td>0</td>\n",
       "      <td>1</td>\n",
       "      <td>0</td>\n",
       "      <td>0</td>\n",
       "      <td>0</td>\n",
       "      <td>0</td>\n",
       "      <td>0</td>\n",
       "      <td>0</td>\n",
       "      <td>0</td>\n",
       "      <td>0</td>\n",
       "      <td>0</td>\n",
       "      <td>0</td>\n",
       "      <td>0</td>\n",
       "      <td>0</td>\n",
       "      <td>0</td>\n",
       "      <td>0</td>\n",
       "      <td>0</td>\n",
       "      <td>0</td>\n",
       "      <td>...</td>\n",
       "      <td>0</td>\n",
       "      <td>0</td>\n",
       "      <td>0</td>\n",
       "      <td>1</td>\n",
       "      <td>0</td>\n",
       "      <td>0</td>\n",
       "      <td>0</td>\n",
       "      <td>0</td>\n",
       "      <td>0</td>\n",
       "      <td>0</td>\n",
       "      <td>0</td>\n",
       "      <td>0</td>\n",
       "      <td>1</td>\n",
       "      <td>0</td>\n",
       "      <td>0</td>\n",
       "      <td>0</td>\n",
       "      <td>0</td>\n",
       "      <td>0</td>\n",
       "      <td>0</td>\n",
       "      <td>0</td>\n",
       "      <td>0</td>\n",
       "      <td>0</td>\n",
       "      <td>0</td>\n",
       "      <td>0</td>\n",
       "      <td>0</td>\n",
       "      <td>0</td>\n",
       "      <td>0</td>\n",
       "      <td>0</td>\n",
       "      <td>0</td>\n",
       "      <td>0</td>\n",
       "      <td>0</td>\n",
       "      <td>0</td>\n",
       "      <td>0</td>\n",
       "      <td>0</td>\n",
       "      <td>0</td>\n",
       "      <td>0</td>\n",
       "      <td>0</td>\n",
       "      <td>0</td>\n",
       "      <td>1</td>\n",
       "      <td>0</td>\n",
       "    </tr>\n",
       "    <tr>\n",
       "      <th>2</th>\n",
       "      <td>12.9</td>\n",
       "      <td>25.7</td>\n",
       "      <td>0.0</td>\n",
       "      <td>5.468232</td>\n",
       "      <td>7.611178</td>\n",
       "      <td>46.0</td>\n",
       "      <td>19.0</td>\n",
       "      <td>26.0</td>\n",
       "      <td>38.0</td>\n",
       "      <td>30.0</td>\n",
       "      <td>1007.6</td>\n",
       "      <td>1008.7</td>\n",
       "      <td>4.447461</td>\n",
       "      <td>2.00000</td>\n",
       "      <td>21.0</td>\n",
       "      <td>23.2</td>\n",
       "      <td>0</td>\n",
       "      <td>0</td>\n",
       "      <td>2008</td>\n",
       "      <td>12</td>\n",
       "      <td>3</td>\n",
       "      <td>0</td>\n",
       "      <td>0</td>\n",
       "      <td>1</td>\n",
       "      <td>0</td>\n",
       "      <td>0</td>\n",
       "      <td>0</td>\n",
       "      <td>0</td>\n",
       "      <td>0</td>\n",
       "      <td>0</td>\n",
       "      <td>0</td>\n",
       "      <td>0</td>\n",
       "      <td>0</td>\n",
       "      <td>0</td>\n",
       "      <td>0</td>\n",
       "      <td>0</td>\n",
       "      <td>0</td>\n",
       "      <td>0</td>\n",
       "      <td>0</td>\n",
       "      <td>0</td>\n",
       "      <td>...</td>\n",
       "      <td>0</td>\n",
       "      <td>0</td>\n",
       "      <td>0</td>\n",
       "      <td>0</td>\n",
       "      <td>1</td>\n",
       "      <td>0</td>\n",
       "      <td>0</td>\n",
       "      <td>0</td>\n",
       "      <td>0</td>\n",
       "      <td>0</td>\n",
       "      <td>0</td>\n",
       "      <td>0</td>\n",
       "      <td>0</td>\n",
       "      <td>0</td>\n",
       "      <td>0</td>\n",
       "      <td>0</td>\n",
       "      <td>0</td>\n",
       "      <td>0</td>\n",
       "      <td>0</td>\n",
       "      <td>1</td>\n",
       "      <td>0</td>\n",
       "      <td>0</td>\n",
       "      <td>0</td>\n",
       "      <td>0</td>\n",
       "      <td>0</td>\n",
       "      <td>0</td>\n",
       "      <td>0</td>\n",
       "      <td>0</td>\n",
       "      <td>0</td>\n",
       "      <td>0</td>\n",
       "      <td>0</td>\n",
       "      <td>0</td>\n",
       "      <td>0</td>\n",
       "      <td>0</td>\n",
       "      <td>0</td>\n",
       "      <td>0</td>\n",
       "      <td>0</td>\n",
       "      <td>0</td>\n",
       "      <td>1</td>\n",
       "      <td>0</td>\n",
       "    </tr>\n",
       "    <tr>\n",
       "      <th>3</th>\n",
       "      <td>9.2</td>\n",
       "      <td>28.0</td>\n",
       "      <td>0.0</td>\n",
       "      <td>5.468232</td>\n",
       "      <td>7.611178</td>\n",
       "      <td>24.0</td>\n",
       "      <td>11.0</td>\n",
       "      <td>9.0</td>\n",
       "      <td>45.0</td>\n",
       "      <td>16.0</td>\n",
       "      <td>1017.6</td>\n",
       "      <td>1012.8</td>\n",
       "      <td>4.447461</td>\n",
       "      <td>4.50993</td>\n",
       "      <td>18.1</td>\n",
       "      <td>26.5</td>\n",
       "      <td>0</td>\n",
       "      <td>0</td>\n",
       "      <td>2008</td>\n",
       "      <td>12</td>\n",
       "      <td>4</td>\n",
       "      <td>0</td>\n",
       "      <td>0</td>\n",
       "      <td>1</td>\n",
       "      <td>0</td>\n",
       "      <td>0</td>\n",
       "      <td>0</td>\n",
       "      <td>0</td>\n",
       "      <td>0</td>\n",
       "      <td>0</td>\n",
       "      <td>0</td>\n",
       "      <td>0</td>\n",
       "      <td>0</td>\n",
       "      <td>0</td>\n",
       "      <td>0</td>\n",
       "      <td>0</td>\n",
       "      <td>0</td>\n",
       "      <td>0</td>\n",
       "      <td>0</td>\n",
       "      <td>0</td>\n",
       "      <td>...</td>\n",
       "      <td>0</td>\n",
       "      <td>0</td>\n",
       "      <td>0</td>\n",
       "      <td>0</td>\n",
       "      <td>0</td>\n",
       "      <td>0</td>\n",
       "      <td>0</td>\n",
       "      <td>0</td>\n",
       "      <td>0</td>\n",
       "      <td>0</td>\n",
       "      <td>0</td>\n",
       "      <td>0</td>\n",
       "      <td>0</td>\n",
       "      <td>0</td>\n",
       "      <td>0</td>\n",
       "      <td>1</td>\n",
       "      <td>0</td>\n",
       "      <td>0</td>\n",
       "      <td>0</td>\n",
       "      <td>0</td>\n",
       "      <td>0</td>\n",
       "      <td>0</td>\n",
       "      <td>0</td>\n",
       "      <td>1</td>\n",
       "      <td>0</td>\n",
       "      <td>0</td>\n",
       "      <td>0</td>\n",
       "      <td>0</td>\n",
       "      <td>0</td>\n",
       "      <td>0</td>\n",
       "      <td>0</td>\n",
       "      <td>0</td>\n",
       "      <td>0</td>\n",
       "      <td>0</td>\n",
       "      <td>0</td>\n",
       "      <td>0</td>\n",
       "      <td>0</td>\n",
       "      <td>0</td>\n",
       "      <td>0</td>\n",
       "      <td>0</td>\n",
       "    </tr>\n",
       "    <tr>\n",
       "      <th>4</th>\n",
       "      <td>17.5</td>\n",
       "      <td>32.3</td>\n",
       "      <td>1.0</td>\n",
       "      <td>5.468232</td>\n",
       "      <td>7.611178</td>\n",
       "      <td>41.0</td>\n",
       "      <td>7.0</td>\n",
       "      <td>20.0</td>\n",
       "      <td>82.0</td>\n",
       "      <td>33.0</td>\n",
       "      <td>1010.8</td>\n",
       "      <td>1006.0</td>\n",
       "      <td>7.000000</td>\n",
       "      <td>8.00000</td>\n",
       "      <td>17.8</td>\n",
       "      <td>29.7</td>\n",
       "      <td>0</td>\n",
       "      <td>0</td>\n",
       "      <td>2008</td>\n",
       "      <td>12</td>\n",
       "      <td>5</td>\n",
       "      <td>0</td>\n",
       "      <td>0</td>\n",
       "      <td>1</td>\n",
       "      <td>0</td>\n",
       "      <td>0</td>\n",
       "      <td>0</td>\n",
       "      <td>0</td>\n",
       "      <td>0</td>\n",
       "      <td>0</td>\n",
       "      <td>0</td>\n",
       "      <td>0</td>\n",
       "      <td>0</td>\n",
       "      <td>0</td>\n",
       "      <td>0</td>\n",
       "      <td>0</td>\n",
       "      <td>0</td>\n",
       "      <td>0</td>\n",
       "      <td>0</td>\n",
       "      <td>0</td>\n",
       "      <td>...</td>\n",
       "      <td>0</td>\n",
       "      <td>0</td>\n",
       "      <td>1</td>\n",
       "      <td>0</td>\n",
       "      <td>0</td>\n",
       "      <td>0</td>\n",
       "      <td>0</td>\n",
       "      <td>1</td>\n",
       "      <td>0</td>\n",
       "      <td>0</td>\n",
       "      <td>0</td>\n",
       "      <td>0</td>\n",
       "      <td>0</td>\n",
       "      <td>0</td>\n",
       "      <td>0</td>\n",
       "      <td>0</td>\n",
       "      <td>0</td>\n",
       "      <td>0</td>\n",
       "      <td>0</td>\n",
       "      <td>0</td>\n",
       "      <td>0</td>\n",
       "      <td>0</td>\n",
       "      <td>0</td>\n",
       "      <td>0</td>\n",
       "      <td>0</td>\n",
       "      <td>0</td>\n",
       "      <td>0</td>\n",
       "      <td>0</td>\n",
       "      <td>0</td>\n",
       "      <td>0</td>\n",
       "      <td>1</td>\n",
       "      <td>0</td>\n",
       "      <td>0</td>\n",
       "      <td>0</td>\n",
       "      <td>0</td>\n",
       "      <td>0</td>\n",
       "      <td>0</td>\n",
       "      <td>0</td>\n",
       "      <td>0</td>\n",
       "      <td>0</td>\n",
       "    </tr>\n",
       "  </tbody>\n",
       "</table>\n",
       "<p>5 rows × 121 columns</p>\n",
       "</div>"
      ],
      "text/plain": [
       "   MinTemp  MaxTemp  ...  WindDir3pm_WSW  WindDir3pm_without_value\n",
       "0     13.4     22.9  ...               0                         0\n",
       "1      7.4     25.1  ...               1                         0\n",
       "2     12.9     25.7  ...               1                         0\n",
       "3      9.2     28.0  ...               0                         0\n",
       "4     17.5     32.3  ...               0                         0\n",
       "\n",
       "[5 rows x 121 columns]"
      ]
     },
     "execution_count": 3,
     "metadata": {
      "tags": []
     },
     "output_type": "execute_result"
    }
   ],
   "source": [
    "# первые 5 записей из датасета\n",
    "df.head()"
   ]
  },
  {
   "cell_type": "code",
   "execution_count": 4,
   "metadata": {
    "colab": {
     "base_uri": "https://localhost:8080/"
    },
    "id": "hc7UlCxqTT8n",
    "outputId": "f89fc103-7a8f-4d9a-cd3d-7b9a7fee30b8"
   },
   "outputs": [
    {
     "name": "stdout",
     "output_type": "stream",
     "text": [
      "<class 'pandas.core.frame.DataFrame'>\n",
      "RangeIndex: 140787 entries, 0 to 140786\n",
      "Columns: 121 entries, MinTemp to WindDir3pm_without_value\n",
      "dtypes: float64(16), int64(105)\n",
      "memory usage: 130.0 MB\n"
     ]
    }
   ],
   "source": [
    "# информация о датасете \n",
    "df.info()"
   ]
  },
  {
   "cell_type": "code",
   "execution_count": 5,
   "metadata": {
    "colab": {
     "base_uri": "https://localhost:8080/"
    },
    "id": "vHbMYkuITT8n",
    "outputId": "914e1b90-c4f3-4280-a4fe-3e2b67a96df9"
   },
   "outputs": [
    {
     "data": {
      "text/plain": [
       "MinTemp                     0\n",
       "MaxTemp                     0\n",
       "Rainfall                    0\n",
       "Evaporation                 0\n",
       "Sunshine                    0\n",
       "                           ..\n",
       "WindDir3pm_SW               0\n",
       "WindDir3pm_W                0\n",
       "WindDir3pm_WNW              0\n",
       "WindDir3pm_WSW              0\n",
       "WindDir3pm_without_value    0\n",
       "Length: 121, dtype: int64"
      ]
     },
     "execution_count": 5,
     "metadata": {
      "tags": []
     },
     "output_type": "execute_result"
    }
   ],
   "source": [
    "# колиество нулевых элементов\n",
    "df.isnull().sum()"
   ]
  },
  {
   "cell_type": "code",
   "execution_count": 6,
   "metadata": {
    "id": "qa1k_WxYTT8o"
   },
   "outputs": [],
   "source": [
    "# разделение признаков\n",
    "y = df['RainTomorrow'].values\n",
    "df.pop('RainTomorrow')\n",
    "X = df.values"
   ]
  },
  {
   "cell_type": "code",
   "execution_count": 7,
   "metadata": {
    "id": "ZebHWvqSTT8o"
   },
   "outputs": [],
   "source": [
    "# разделение датасета на обучаемую и тестовую выборки\n",
    "X_train, X_test, y_train, y_test = model_selection.train_test_split(X, y, test_size=0.2)"
   ]
  },
  {
   "cell_type": "code",
   "execution_count": 8,
   "metadata": {
    "id": "2i4v7HXdTT8p"
   },
   "outputs": [],
   "source": [
    "# масштабирование признаков\n",
    "from sklearn.preprocessing import StandardScaler\n",
    "scaler = StandardScaler()\n",
    "scaler.fit(X_train)\n",
    "\n",
    "X_train = scaler.transform(X_train)\n",
    "X_test = scaler.transform(X_test)"
   ]
  },
  {
   "cell_type": "markdown",
   "metadata": {
    "id": "DKviD0s4TT8p"
   },
   "source": [
    "# Архитектура и визуализация"
   ]
  },
  {
   "cell_type": "code",
   "execution_count": 9,
   "metadata": {
    "id": "FEcAgHQ7TT8p"
   },
   "outputs": [],
   "source": [
    "# подключение модулей\n",
    "from tensorflow.keras.models import Sequential\n",
    "from tensorflow.keras.layers import Dense\n",
    "from tensorflow.keras import utils"
   ]
  },
  {
   "cell_type": "code",
   "execution_count": 10,
   "metadata": {
    "id": "FCxKRhFJTT8q"
   },
   "outputs": [],
   "source": [
    "# архитектура нейросети\n",
    "model = Sequential()\n",
    "model.add(Dense(32, input_dim=X.shape[1], activation='relu'))\n",
    "model.add(Dense(32, activation='relu'))\n",
    "model.add(Dense(1, activation='sigmoid'))"
   ]
  },
  {
   "cell_type": "code",
   "execution_count": 11,
   "metadata": {
    "colab": {
     "base_uri": "https://localhost:8080/"
    },
    "id": "NkEKgU3PTT8q",
    "outputId": "228775db-81cb-4b21-afdc-e604d45e46ba"
   },
   "outputs": [
    {
     "name": "stdout",
     "output_type": "stream",
     "text": [
      "Model: \"sequential\"\n",
      "_________________________________________________________________\n",
      "Layer (type)                 Output Shape              Param #   \n",
      "=================================================================\n",
      "dense (Dense)                (None, 32)                3872      \n",
      "_________________________________________________________________\n",
      "dense_1 (Dense)              (None, 32)                1056      \n",
      "_________________________________________________________________\n",
      "dense_2 (Dense)              (None, 1)                 33        \n",
      "=================================================================\n",
      "Total params: 4,961\n",
      "Trainable params: 4,961\n",
      "Non-trainable params: 0\n",
      "_________________________________________________________________\n",
      "None\n"
     ]
    }
   ],
   "source": [
    "# информацию о модели\n",
    "print(model.summary())"
   ]
  },
  {
   "cell_type": "code",
   "execution_count": 12,
   "metadata": {
    "colab": {
     "base_uri": "https://localhost:8080/",
     "height": 422
    },
    "id": "Pi54MbjsTT8r",
    "outputId": "e3d71f1d-5315-400c-8d31-c656254a3b87"
   },
   "outputs": [
    {
     "data": {
      "image/png": "[encoded data removed]",
      "text/plain": [
       "<IPython.core.display.Image object>"
      ]
     },
     "execution_count": 12,
     "metadata": {
      "tags": []
     },
     "output_type": "execute_result"
    }
   ],
   "source": [
    "utils.plot_model(model, to_file='model_plot.png', show_shapes=True, show_layer_names=True)"
   ]
  },
  {
   "cell_type": "code",
   "execution_count": 13,
   "metadata": {
    "id": "dDvveQFUTT8s"
   },
   "outputs": [],
   "source": [
    "# подготовка модели к процессу обучения\n",
    "model.compile(loss='binary_crossentropy', optimizer='adam', metrics=['accuracy'])"
   ]
  },
  {
   "cell_type": "code",
   "execution_count": 14,
   "metadata": {
    "colab": {
     "base_uri": "https://localhost:8080/"
    },
    "id": "t9qp-lDLTT8s",
    "outputId": "9a229346-c0e8-43a4-baba-07dca1530bb7"
   },
   "outputs": [
    {
     "name": "stdout",
     "output_type": "stream",
     "text": [
      "3520/3520 [==============================] - 9s 2ms/step - loss: 0.3883 - accuracy: 0.8226\n"
     ]
    },
    {
     "data": {
      "text/plain": [
       "<tensorflow.python.keras.callbacks.History at 0x7ffa30141550>"
      ]
     },
     "execution_count": 14,
     "metadata": {
      "tags": []
     },
     "output_type": "execute_result"
    }
   ],
   "source": [
    "# обучение модели\n",
    "model.fit(X_train, y_train)"
   ]
  },
  {
   "cell_type": "code",
   "execution_count": 15,
   "metadata": {
    "colab": {
     "base_uri": "https://localhost:8080/"
    },
    "id": "JBKDzRsPTT8t",
    "outputId": "a8d87280-5a83-4597-d8d3-fab70808af98"
   },
   "outputs": [
    {
     "name": "stdout",
     "output_type": "stream",
     "text": [
      "              precision    recall  f1-score   support\n",
      "\n",
      "           0       0.88      0.94      0.91     21937\n",
      "           1       0.73      0.55      0.63      6221\n",
      "\n",
      "    accuracy                           0.86     28158\n",
      "   macro avg       0.81      0.75      0.77     28158\n",
      "weighted avg       0.85      0.86      0.85     28158\n",
      "\n"
     ]
    }
   ],
   "source": [
    "# предсказание модели\n",
    "y_pred = (model.predict(X_test) > 0.5).astype(\"int32\")\n",
    "print(metrics.classification_report(y_test, y_pred))"
   ]
  },
  {
   "cell_type": "markdown",
   "metadata": {
    "id": "xO6Xq5l0VPTM"
   },
   "source": [
    "# Подбор гиперпараметров и архитектуры"
   ]
  },
  {
   "cell_type": "code",
   "execution_count": 16,
   "metadata": {
    "colab": {
     "base_uri": "https://localhost:8080/"
    },
    "id": "1rjswqDxmvIZ",
    "outputId": "7bcfa7d6-bc87-45ad-aa21-6bb23648a8e2"
   },
   "outputs": [
    {
     "name": "stdout",
     "output_type": "stream",
     "text": [
      "Requirement already up-to-date: keras-tuner in /usr/local/lib/python3.7/dist-packages (1.0.2)\n",
      "Requirement already satisfied, skipping upgrade: scipy in /usr/local/lib/python3.7/dist-packages (from keras-tuner) (1.4.1)\n",
      "Requirement already satisfied, skipping upgrade: packaging in /usr/local/lib/python3.7/dist-packages (from keras-tuner) (20.9)\n",
      "Requirement already satisfied, skipping upgrade: terminaltables in /usr/local/lib/python3.7/dist-packages (from keras-tuner) (3.1.0)\n",
      "Requirement already satisfied, skipping upgrade: scikit-learn in /usr/local/lib/python3.7/dist-packages (from keras-tuner) (0.22.2.post1)\n",
      "Requirement already satisfied, skipping upgrade: tabulate in /usr/local/lib/python3.7/dist-packages (from keras-tuner) (0.8.9)\n",
      "Requirement already satisfied, skipping upgrade: future in /usr/local/lib/python3.7/dist-packages (from keras-tuner) (0.16.0)\n",
      "Requirement already satisfied, skipping upgrade: tqdm in /usr/local/lib/python3.7/dist-packages (from keras-tuner) (4.41.1)\n",
      "Requirement already satisfied, skipping upgrade: colorama in /usr/local/lib/python3.7/dist-packages (from keras-tuner) (0.4.4)\n",
      "Requirement already satisfied, skipping upgrade: numpy in /usr/local/lib/python3.7/dist-packages (from keras-tuner) (1.19.5)\n",
      "Requirement already satisfied, skipping upgrade: requests in /usr/local/lib/python3.7/dist-packages (from keras-tuner) (2.23.0)\n",
      "Requirement already satisfied, skipping upgrade: pyparsing>=2.0.2 in /usr/local/lib/python3.7/dist-packages (from packaging->keras-tuner) (2.4.7)\n",
      "Requirement already satisfied, skipping upgrade: joblib>=0.11 in /usr/local/lib/python3.7/dist-packages (from scikit-learn->keras-tuner) (1.0.1)\n",
      "Requirement already satisfied, skipping upgrade: idna<3,>=2.5 in /usr/local/lib/python3.7/dist-packages (from requests->keras-tuner) (2.10)\n",
      "Requirement already satisfied, skipping upgrade: certifi>=2017.4.17 in /usr/local/lib/python3.7/dist-packages (from requests->keras-tuner) (2020.12.5)\n",
      "Requirement already satisfied, skipping upgrade: urllib3!=1.25.0,!=1.25.1,<1.26,>=1.21.1 in /usr/local/lib/python3.7/dist-packages (from requests->keras-tuner) (1.24.3)\n",
      "Requirement already satisfied, skipping upgrade: chardet<4,>=3.0.2 in /usr/local/lib/python3.7/dist-packages (from requests->keras-tuner) (3.0.4)\n"
     ]
    }
   ],
   "source": [
    "# Установка Keras Tuner\n",
    "%pip install -U keras-tuner"
   ]
  },
  {
   "cell_type": "code",
   "execution_count": 17,
   "metadata": {
    "id": "GLABB1zgoM1G"
   },
   "outputs": [],
   "source": [
    "# функция для создания нейронной сети\n",
    "def build_model(hp):\n",
    "    model = Sequential()\n",
    "    activation_choice = hp.Choice('activation', values=['relu', 'sigmoid', 'tanh', 'elu', 'selu'])    \n",
    "    model.add(Dense(units=hp.Int('units1', min_value=10, max_value=167, step=4), input_dim=X.shape[1], activation=activation_choice))\n",
    "    model.add(Dense(units=hp.Int('units2', min_value=15, max_value=254, step=6), activation=activation_choice))   \n",
    "    model.add(Dense(1, activation='sigmoid'))\n",
    "    model.compile(optimizer=hp.Choice('optimizer', values=['adam','rmsprop','SGD']), loss='binary_crossentropy', metrics=['accuracy'])\n",
    "    return model"
   ]
  },
  {
   "cell_type": "code",
   "execution_count": 18,
   "metadata": {
    "id": "ZLW26K1Prq8c"
   },
   "outputs": [],
   "source": [
    "# модель для подбора гиперпараметров\n",
    "from kerastuner.tuners import RandomSearch\n",
    "model_tuner = RandomSearch(build_model, objective='val_accuracy', max_trials=5, directory='../keras_models/')"
   ]
  },
  {
   "cell_type": "code",
   "execution_count": 19,
   "metadata": {
    "colab": {
     "base_uri": "https://localhost:8080/"
    },
    "id": "LyYy_fkTsdBj",
    "outputId": "9c173198-96f1-4ff9-afa6-03d24eafd33d"
   },
   "outputs": [
    {
     "name": "stdout",
     "output_type": "stream",
     "text": [
      "Search space summary\n",
      "Default search space size: 4\n",
      "activation (Choice)\n",
      "{'default': 'relu', 'conditions': [], 'values': ['relu', 'sigmoid', 'tanh', 'elu', 'selu'], 'ordered': False}\n",
      "units1 (Int)\n",
      "{'default': None, 'conditions': [], 'min_value': 10, 'max_value': 167, 'step': 4, 'sampling': None}\n",
      "units2 (Int)\n",
      "{'default': None, 'conditions': [], 'min_value': 15, 'max_value': 254, 'step': 6, 'sampling': None}\n",
      "optimizer (Choice)\n",
      "{'default': 'adam', 'conditions': [], 'values': ['adam', 'rmsprop', 'SGD'], 'ordered': False}\n"
     ]
    }
   ],
   "source": [
    "# подбираемые гиперпараметры\n",
    "model_tuner.search_space_summary()"
   ]
  },
  {
   "cell_type": "code",
   "execution_count": 20,
   "metadata": {
    "colab": {
     "base_uri": "https://localhost:8080/"
    },
    "id": "oaQ5aBePsnhV",
    "outputId": "2515a5ee-6160-4c13-a086-ae5d149f4c04"
   },
   "outputs": [
    {
     "name": "stdout",
     "output_type": "stream",
     "text": [
      "Trial 5 Complete [00h 03m 15s]\n",
      "val_accuracy: 0.8638462424278259\n",
      "\n",
      "Best val_accuracy So Far: 0.8654443621635437\n",
      "Total elapsed time: 00h 15m 52s\n",
      "INFO:tensorflow:Oracle triggered exit\n"
     ]
    }
   ],
   "source": [
    "# подбор гиперпараметров\n",
    "model_tuner.search(X_train, y_train, batch_size=20, epochs=15, validation_split=0.2)"
   ]
  },
  {
   "cell_type": "code",
   "execution_count": 21,
   "metadata": {
    "colab": {
     "base_uri": "https://localhost:8080/"
    },
    "id": "Saai91lytKoQ",
    "outputId": "8602beb2-814e-4b4a-dedb-cf7f168390cd"
   },
   "outputs": [
    {
     "name": "stdout",
     "output_type": "stream",
     "text": [
      "Results summary\n",
      "Results in keras_models/untitled_project\n",
      "Showing 10 best trials\n",
      "Objective(name='val_accuracy', direction='max')\n",
      "Trial summary\n",
      "Hyperparameters:\n",
      "activation: elu\n",
      "units1: 82\n",
      "units2: 105\n",
      "optimizer: rmsprop\n",
      "Score: 0.8654443621635437\n",
      "Trial summary\n",
      "Hyperparameters:\n",
      "activation: sigmoid\n",
      "units1: 166\n",
      "units2: 129\n",
      "optimizer: rmsprop\n",
      "Score: 0.8648672699928284\n",
      "Trial summary\n",
      "Hyperparameters:\n",
      "activation: elu\n",
      "units1: 30\n",
      "units2: 153\n",
      "optimizer: adam\n",
      "Score: 0.8639793992042542\n",
      "Trial summary\n",
      "Hyperparameters:\n",
      "activation: tanh\n",
      "units1: 90\n",
      "units2: 171\n",
      "optimizer: rmsprop\n",
      "Score: 0.8638462424278259\n",
      "Trial summary\n",
      "Hyperparameters:\n",
      "activation: relu\n",
      "units1: 70\n",
      "units2: 213\n",
      "optimizer: adam\n",
      "Score: 0.8634910583496094\n"
     ]
    }
   ],
   "source": [
    "# результаты подбора гиперпараметров и архитектуры нейросети\n",
    "model_tuner.results_summary()"
   ]
  },
  {
   "cell_type": "code",
   "execution_count": 22,
   "metadata": {
    "id": "mv1aCtHku_hF"
   },
   "outputs": [],
   "source": [
    "# лучшие 3 модели\n",
    "best_models = model_tuner.get_best_models(num_models=3)"
   ]
  },
  {
   "cell_type": "code",
   "execution_count": 23,
   "metadata": {
    "colab": {
     "base_uri": "https://localhost:8080/"
    },
    "id": "s9IBAJRT0udj",
    "outputId": "c27e0ecf-f5ee-4b4c-ab49-3dcda9c2aa4c"
   },
   "outputs": [
    {
     "name": "stdout",
     "output_type": "stream",
     "text": [
      "Model: \"sequential\"\n",
      "_________________________________________________________________\n",
      "Layer (type)                 Output Shape              Param #   \n",
      "=================================================================\n",
      "dense (Dense)                (None, 82)                9922      \n",
      "_________________________________________________________________\n",
      "dense_1 (Dense)              (None, 105)               8715      \n",
      "_________________________________________________________________\n",
      "dense_2 (Dense)              (None, 1)                 106       \n",
      "=================================================================\n",
      "Total params: 18,743\n",
      "Trainable params: 18,743\n",
      "Non-trainable params: 0\n",
      "_________________________________________________________________\n",
      "880/880 [==============================] - 2s 2ms/step - loss: 0.3213 - accuracy: 0.8609\n",
      "\n",
      "Model: \"sequential\"\n",
      "_________________________________________________________________\n",
      "Layer (type)                 Output Shape              Param #   \n",
      "=================================================================\n",
      "dense (Dense)                (None, 166)               20086     \n",
      "_________________________________________________________________\n",
      "dense_1 (Dense)              (None, 129)               21543     \n",
      "_________________________________________________________________\n",
      "dense_2 (Dense)              (None, 1)                 130       \n",
      "=================================================================\n",
      "Total params: 41,759\n",
      "Trainable params: 41,759\n",
      "Non-trainable params: 0\n",
      "_________________________________________________________________\n",
      "880/880 [==============================] - 2s 2ms/step - loss: 0.3261 - accuracy: 0.8598\n",
      "\n",
      "Model: \"sequential\"\n",
      "_________________________________________________________________\n",
      "Layer (type)                 Output Shape              Param #   \n",
      "=================================================================\n",
      "dense (Dense)                (None, 30)                3630      \n",
      "_________________________________________________________________\n",
      "dense_1 (Dense)              (None, 153)               4743      \n",
      "_________________________________________________________________\n",
      "dense_2 (Dense)              (None, 1)                 154       \n",
      "=================================================================\n",
      "Total params: 8,527\n",
      "Trainable params: 8,527\n",
      "Non-trainable params: 0\n",
      "_________________________________________________________________\n",
      "880/880 [==============================] - 2s 2ms/step - loss: 0.3230 - accuracy: 0.8610\n",
      "\n"
     ]
    }
   ],
   "source": [
    "# оценка качества моделей на тестовых данных\n",
    "for model in best_models:\n",
    "  model.summary()\n",
    "  model.evaluate(X_test, y_test)\n",
    "  print()"
   ]
  },
  {
   "cell_type": "code",
   "execution_count": 24,
   "metadata": {
    "colab": {
     "base_uri": "https://localhost:8080/"
    },
    "id": "1ZL9jGsp2P3r",
    "outputId": "ee6093a0-8485-491d-b344-50c9d8dd70c1"
   },
   "outputs": [
    {
     "data": {
      "text/plain": [
       "{'layers': [{'class_name': 'InputLayer',\n",
       "   'config': {'batch_input_shape': (None, 120),\n",
       "    'dtype': 'float32',\n",
       "    'name': 'dense_input',\n",
       "    'ragged': False,\n",
       "    'sparse': False}},\n",
       "  {'class_name': 'Dense',\n",
       "   'config': {'activation': 'elu',\n",
       "    'activity_regularizer': None,\n",
       "    'batch_input_shape': (None, 120),\n",
       "    'bias_constraint': None,\n",
       "    'bias_initializer': {'class_name': 'Zeros', 'config': {}},\n",
       "    'bias_regularizer': None,\n",
       "    'dtype': 'float32',\n",
       "    'kernel_constraint': None,\n",
       "    'kernel_initializer': {'class_name': 'GlorotUniform',\n",
       "     'config': {'seed': None}},\n",
       "    'kernel_regularizer': None,\n",
       "    'name': 'dense',\n",
       "    'trainable': True,\n",
       "    'units': 82,\n",
       "    'use_bias': True}},\n",
       "  {'class_name': 'Dense',\n",
       "   'config': {'activation': 'elu',\n",
       "    'activity_regularizer': None,\n",
       "    'bias_constraint': None,\n",
       "    'bias_initializer': {'class_name': 'Zeros', 'config': {}},\n",
       "    'bias_regularizer': None,\n",
       "    'dtype': 'float32',\n",
       "    'kernel_constraint': None,\n",
       "    'kernel_initializer': {'class_name': 'GlorotUniform',\n",
       "     'config': {'seed': None}},\n",
       "    'kernel_regularizer': None,\n",
       "    'name': 'dense_1',\n",
       "    'trainable': True,\n",
       "    'units': 105,\n",
       "    'use_bias': True}},\n",
       "  {'class_name': 'Dense',\n",
       "   'config': {'activation': 'sigmoid',\n",
       "    'activity_regularizer': None,\n",
       "    'bias_constraint': None,\n",
       "    'bias_initializer': {'class_name': 'Zeros', 'config': {}},\n",
       "    'bias_regularizer': None,\n",
       "    'dtype': 'float32',\n",
       "    'kernel_constraint': None,\n",
       "    'kernel_initializer': {'class_name': 'GlorotUniform',\n",
       "     'config': {'seed': None}},\n",
       "    'kernel_regularizer': None,\n",
       "    'name': 'dense_2',\n",
       "    'trainable': True,\n",
       "    'units': 1,\n",
       "    'use_bias': True}}],\n",
       " 'name': 'sequential'}"
      ]
     },
     "execution_count": 24,
     "metadata": {
      "tags": []
     },
     "output_type": "execute_result"
    }
   ],
   "source": [
    "# гиперпараметры лучшей модели\n",
    "best_models[0].get_config()"
   ]
  },
  {
   "cell_type": "markdown",
   "metadata": {
    "id": "A9SH-9qJ3fud"
   },
   "source": [
    "# Сравнение качества и времени работы моделей и нейросети"
   ]
  },
  {
   "cell_type": "code",
   "execution_count": 25,
   "metadata": {
    "id": "iapRhZkj5R2m"
   },
   "outputs": [],
   "source": [
    "# импортирование матриц характеристик\n",
    "from sklearn.metrics import classification_report, confusion_matrix"
   ]
  },
  {
   "cell_type": "code",
   "execution_count": 26,
   "metadata": {
    "id": "Sg1ekH7I9N9Z"
   },
   "outputs": [],
   "source": [
    "# создание модели нейросети с наилучшими подобранными гиперпараметрами\n",
    "best_model = Sequential()\n",
    "best_model.add(Dense(82, input_dim=X.shape[1], activation='elu'))\n",
    "best_model.add(Dense(105, activation='elu'))\n",
    "best_model.add(Dense(1, activation='sigmoid'))"
   ]
  },
  {
   "cell_type": "code",
   "execution_count": 27,
   "metadata": {
    "id": "bQxF7G64-7oK"
   },
   "outputs": [],
   "source": [
    "# подготовка модели\n",
    "best_model.compile(loss='binary_crossentropy', optimizer='rmsprop', metrics=['accuracy'])"
   ]
  },
  {
   "cell_type": "code",
   "execution_count": 28,
   "metadata": {
    "colab": {
     "base_uri": "https://localhost:8080/"
    },
    "id": "xe3B5KPn_DjS",
    "outputId": "bf79c6f1-2081-4cb5-99ec-2955a5f035bd"
   },
   "outputs": [
    {
     "name": "stdout",
     "output_type": "stream",
     "text": [
      "Epoch 1/10\n",
      "3520/3520 [==============================] - 9s 3ms/step - loss: 0.3712 - accuracy: 0.8376\n",
      "Epoch 2/10\n",
      "3520/3520 [==============================] - 9s 3ms/step - loss: 0.3311 - accuracy: 0.8579\n",
      "Epoch 3/10\n",
      "3520/3520 [==============================] - 9s 3ms/step - loss: 0.3265 - accuracy: 0.8594\n",
      "Epoch 4/10\n",
      "3520/3520 [==============================] - 9s 3ms/step - loss: 0.3187 - accuracy: 0.8624\n",
      "Epoch 5/10\n",
      "3520/3520 [==============================] - 9s 2ms/step - loss: 0.3167 - accuracy: 0.8633\n",
      "Epoch 6/10\n",
      "3520/3520 [==============================] - 9s 2ms/step - loss: 0.3135 - accuracy: 0.8665\n",
      "Epoch 7/10\n",
      "3520/3520 [==============================] - 9s 2ms/step - loss: 0.3105 - accuracy: 0.8668\n",
      "Epoch 8/10\n",
      "3520/3520 [==============================] - 9s 3ms/step - loss: 0.3080 - accuracy: 0.8685\n",
      "Epoch 9/10\n",
      "3520/3520 [==============================] - 9s 3ms/step - loss: 0.3077 - accuracy: 0.8699\n",
      "Epoch 10/10\n",
      "3520/3520 [==============================] - 9s 3ms/step - loss: 0.3095 - accuracy: 0.8689\n",
      "CPU times: user 1min 51s, sys: 10.5 s, total: 2min 1s\n",
      "Wall time: 1min 29s\n"
     ]
    },
    {
     "data": {
      "text/plain": [
       "<tensorflow.python.keras.callbacks.History at 0x7ff9e4112ad0>"
      ]
     },
     "execution_count": 28,
     "metadata": {
      "tags": []
     },
     "output_type": "execute_result"
    }
   ],
   "source": [
    "%%time\n",
    "# обучение нейросети\n",
    "best_model.fit(X_train, y_train, epochs=10)"
   ]
  },
  {
   "cell_type": "markdown",
   "metadata": {
    "id": "5M8RLrRv4PBZ"
   },
   "source": [
    "## Keras Neural Network и Decision Tree Classifier"
   ]
  },
  {
   "cell_type": "code",
   "execution_count": 29,
   "metadata": {
    "colab": {
     "base_uri": "https://localhost:8080/"
    },
    "id": "xIz4BjAc8WDX",
    "outputId": "1628237c-935b-49be-a3c2-600fba30142a"
   },
   "outputs": [
    {
     "name": "stdout",
     "output_type": "stream",
     "text": [
      "CPU times: user 3.47 s, sys: 11.6 ms, total: 3.48 s\n",
      "Wall time: 3.47 s\n"
     ]
    }
   ],
   "source": [
    "%%time\n",
    "from sklearn import tree\n",
    "# обучение модели\n",
    "dtc = tree.DecisionTreeClassifier()\n",
    "dtc.fit(X_train, y_train)"
   ]
  },
  {
   "cell_type": "code",
   "execution_count": 30,
   "metadata": {
    "colab": {
     "base_uri": "https://localhost:8080/"
    },
    "id": "uksEPwPZ5A0u",
    "outputId": "4c136687-69a5-4b6a-c042-639644b6e1cb"
   },
   "outputs": [
    {
     "name": "stdout",
     "output_type": "stream",
     "text": [
      "[[20627  1310]\n",
      " [ 2526  3695]]\n",
      "              precision    recall  f1-score   support\n",
      "\n",
      "           0       0.89      0.94      0.91     21937\n",
      "           1       0.74      0.59      0.66      6221\n",
      "\n",
      "    accuracy                           0.86     28158\n",
      "   macro avg       0.81      0.77      0.79     28158\n",
      "weighted avg       0.86      0.86      0.86     28158\n",
      "\n"
     ]
    }
   ],
   "source": [
    "# предсказанные значения нейросети\n",
    "y_pred = (best_model.predict(X_test) > 0.5).astype(\"int32\")\n",
    "# матрицы характеристик\n",
    "print(confusion_matrix(y_test, y_pred))\n",
    "print(classification_report(y_test, y_pred))"
   ]
  },
  {
   "cell_type": "code",
   "execution_count": 31,
   "metadata": {
    "colab": {
     "base_uri": "https://localhost:8080/"
    },
    "id": "r9roXnZC5pmw",
    "outputId": "ce996a9f-d506-4ccd-b0ae-5dde0452e715"
   },
   "outputs": [
    {
     "name": "stdout",
     "output_type": "stream",
     "text": [
      "[[18953  2984]\n",
      " [ 2861  3360]]\n",
      "              precision    recall  f1-score   support\n",
      "\n",
      "           0       0.87      0.86      0.87     21937\n",
      "           1       0.53      0.54      0.53      6221\n",
      "\n",
      "    accuracy                           0.79     28158\n",
      "   macro avg       0.70      0.70      0.70     28158\n",
      "weighted avg       0.79      0.79      0.79     28158\n",
      "\n"
     ]
    }
   ],
   "source": [
    "# предсказанные значения Decision Tree Classifier\n",
    "y_pred = dtc.predict(X_test)\n",
    "# матрицы характеристик\n",
    "print(confusion_matrix(y_test, y_pred))\n",
    "print(classification_report(y_test, y_pred))"
   ]
  },
  {
   "cell_type": "markdown",
   "metadata": {
    "id": "SG1Lh3PH_brJ"
   },
   "source": [
    "Время работы Keras Neural Network - 2min 1s\n",
    "\n",
    "Время работы Decision Tree Classifier - 3.48 s\n",
    "\n",
    "Decision Tree Classifier работает быстрее, чем Keras Neural Network\n",
    "\n",
    "Качество работы Keras Neural Network лучше, чем у Decision Tree Classifier"
   ]
  },
  {
   "cell_type": "markdown",
   "metadata": {
    "id": "0qiWEsmf_cPb"
   },
   "source": [
    "## Keras Neural Network и Naive Bayes Classifier"
   ]
  },
  {
   "cell_type": "code",
   "execution_count": 32,
   "metadata": {
    "colab": {
     "base_uri": "https://localhost:8080/"
    },
    "id": "AoRDk3qF_eei",
    "outputId": "6ab479d6-b1b9-437d-91e5-4a43d36f8775"
   },
   "outputs": [
    {
     "name": "stdout",
     "output_type": "stream",
     "text": [
      "CPU times: user 167 ms, sys: 20 ms, total: 187 ms\n",
      "Wall time: 192 ms\n"
     ]
    }
   ],
   "source": [
    "%%time\n",
    "from sklearn.naive_bayes import GaussianNB\n",
    "# обучение модели\n",
    "nbc = GaussianNB()\n",
    "nbc.fit(X_train, y_train)"
   ]
  },
  {
   "cell_type": "code",
   "execution_count": 33,
   "metadata": {
    "colab": {
     "base_uri": "https://localhost:8080/"
    },
    "id": "dkkwpvNBBRUv",
    "outputId": "c0e505dc-e20f-4d7b-e6f6-bc457b56ed0a"
   },
   "outputs": [
    {
     "name": "stdout",
     "output_type": "stream",
     "text": [
      "[[20627  1310]\n",
      " [ 2526  3695]]\n",
      "              precision    recall  f1-score   support\n",
      "\n",
      "           0       0.89      0.94      0.91     21937\n",
      "           1       0.74      0.59      0.66      6221\n",
      "\n",
      "    accuracy                           0.86     28158\n",
      "   macro avg       0.81      0.77      0.79     28158\n",
      "weighted avg       0.86      0.86      0.86     28158\n",
      "\n"
     ]
    }
   ],
   "source": [
    "# предсказанные значения нейросети\n",
    "y_pred = (best_model.predict(X_test) > 0.5).astype(\"int32\")\n",
    "# матрицы характеристик\n",
    "print(confusion_matrix(y_test, y_pred))\n",
    "print(classification_report(y_test, y_pred))"
   ]
  },
  {
   "cell_type": "code",
   "execution_count": 34,
   "metadata": {
    "colab": {
     "base_uri": "https://localhost:8080/"
    },
    "id": "QgM7CFEtBUyW",
    "outputId": "9b161aef-f56c-43e5-ae52-09c1d62d0da1"
   },
   "outputs": [
    {
     "name": "stdout",
     "output_type": "stream",
     "text": [
      "[[13754  8183]\n",
      " [ 1801  4420]]\n",
      "              precision    recall  f1-score   support\n",
      "\n",
      "           0       0.88      0.63      0.73     21937\n",
      "           1       0.35      0.71      0.47      6221\n",
      "\n",
      "    accuracy                           0.65     28158\n",
      "   macro avg       0.62      0.67      0.60     28158\n",
      "weighted avg       0.77      0.65      0.68     28158\n",
      "\n"
     ]
    }
   ],
   "source": [
    "# предсказанные значения Naive Bayes Classifier\n",
    "y_pred = nbc.predict(X_test)\n",
    "# матрицы характеристик\n",
    "print(confusion_matrix(y_test, y_pred))\n",
    "print(classification_report(y_test, y_pred))"
   ]
  },
  {
   "cell_type": "markdown",
   "metadata": {
    "id": "BpJpvVUlBdU6"
   },
   "source": [
    "Время работы Keras Neural Network - 2min 1s\n",
    "\n",
    "Время работы Naive Bayes Classifier - 187 ms\n",
    "\n",
    "Naive Bayes Classifier работает быстрее, чем Keras Neural Network\n",
    "\n",
    "Качество работы Keras Neural Network лучше, чем у Naive Bayes Classifier"
   ]
  },
  {
   "cell_type": "markdown",
   "metadata": {
    "id": "HE0h4ZhYBeYF"
   },
   "source": [
    "## Keras Neural Network и Logistic Regression"
   ]
  },
  {
   "cell_type": "code",
   "execution_count": 35,
   "metadata": {
    "colab": {
     "base_uri": "https://localhost:8080/"
    },
    "id": "vJ0RzXNaBq6Y",
    "outputId": "89dd0150-6d25-4a8e-fe83-98e4db63ccf2"
   },
   "outputs": [
    {
     "name": "stdout",
     "output_type": "stream",
     "text": [
      "CPU times: user 2.73 s, sys: 735 ms, total: 3.47 s\n",
      "Wall time: 1.8 s\n"
     ]
    }
   ],
   "source": [
    "%%time\n",
    "from sklearn.linear_model import LogisticRegression\n",
    "# обучение модели\n",
    "lrc = LogisticRegression()\n",
    "lrc.fit(X_train, y_train)"
   ]
  },
  {
   "cell_type": "code",
   "execution_count": 36,
   "metadata": {
    "colab": {
     "base_uri": "https://localhost:8080/"
    },
    "id": "mJeuPLCSBuBB",
    "outputId": "f72b3e99-0b46-451c-dd37-cce7235df2fd"
   },
   "outputs": [
    {
     "name": "stdout",
     "output_type": "stream",
     "text": [
      "[[20627  1310]\n",
      " [ 2526  3695]]\n",
      "              precision    recall  f1-score   support\n",
      "\n",
      "           0       0.89      0.94      0.91     21937\n",
      "           1       0.74      0.59      0.66      6221\n",
      "\n",
      "    accuracy                           0.86     28158\n",
      "   macro avg       0.81      0.77      0.79     28158\n",
      "weighted avg       0.86      0.86      0.86     28158\n",
      "\n"
     ]
    }
   ],
   "source": [
    "# предсказанные значения нейросети\n",
    "y_pred = (best_model.predict(X_test) > 0.5).astype(\"int32\")\n",
    "# матрицы характеристик\n",
    "print(confusion_matrix(y_test, y_pred))\n",
    "print(classification_report(y_test, y_pred))"
   ]
  },
  {
   "cell_type": "code",
   "execution_count": 37,
   "metadata": {
    "colab": {
     "base_uri": "https://localhost:8080/"
    },
    "id": "tDd7uZjRBxVR",
    "outputId": "b1fee738-d66e-4570-fca5-ba5df044c536"
   },
   "outputs": [
    {
     "name": "stdout",
     "output_type": "stream",
     "text": [
      "[[20781  1156]\n",
      " [ 3009  3212]]\n",
      "              precision    recall  f1-score   support\n",
      "\n",
      "           0       0.87      0.95      0.91     21937\n",
      "           1       0.74      0.52      0.61      6221\n",
      "\n",
      "    accuracy                           0.85     28158\n",
      "   macro avg       0.80      0.73      0.76     28158\n",
      "weighted avg       0.84      0.85      0.84     28158\n",
      "\n"
     ]
    }
   ],
   "source": [
    "# предсказанные значения Logistic Regression\n",
    "y_pred = lrc.predict(X_test)\n",
    "# матрицы характеристик\n",
    "print(confusion_matrix(y_test, y_pred))\n",
    "print(classification_report(y_test, y_pred))"
   ]
  },
  {
   "cell_type": "markdown",
   "metadata": {
    "id": "hBF58ZCcB8mu"
   },
   "source": [
    "Время работы Keras Neural Network - 2min 1s\n",
    "\n",
    "Время работы Logistic Regression - 3.47 s\n",
    "\n",
    "Logistic Regression работает быстрее, чем Keras Neural Network\n",
    "\n",
    "Качество работы Keras Neural Network лучше, чем у Logistic Regression"
   ]
  },
  {
   "cell_type": "markdown",
   "metadata": {
    "id": "7tzM7WT6CmYW"
   },
   "source": [
    "## Keras Neural Network и Support Vector Machines"
   ]
  },
  {
   "cell_type": "code",
   "execution_count": 38,
   "metadata": {
    "colab": {
     "base_uri": "https://localhost:8080/"
    },
    "id": "4ZnIa-c_B1KF",
    "outputId": "111825c0-8e4f-4864-b4a2-5ac8d4a5bb8f"
   },
   "outputs": [
    {
     "name": "stdout",
     "output_type": "stream",
     "text": [
      "CPU times: user 1min 15s, sys: 14.9 ms, total: 1min 15s\n",
      "Wall time: 1min 14s\n"
     ]
    },
    {
     "name": "stderr",
     "output_type": "stream",
     "text": [
      "/usr/local/lib/python3.7/dist-packages/sklearn/svm/_base.py:947: ConvergenceWarning: Liblinear failed to converge, increase the number of iterations.\n",
      "  \"the number of iterations.\", ConvergenceWarning)\n"
     ]
    }
   ],
   "source": [
    "%%time\n",
    "from sklearn import svm\n",
    "# обучение модели\n",
    "svc = svm.LinearSVC()\n",
    "svc.fit(X_train, y_train)"
   ]
  },
  {
   "cell_type": "code",
   "execution_count": 39,
   "metadata": {
    "colab": {
     "base_uri": "https://localhost:8080/"
    },
    "id": "UWlQRBczB_j9",
    "outputId": "39de6b44-ca21-43b6-c1ca-0f61a9201f9c"
   },
   "outputs": [
    {
     "name": "stdout",
     "output_type": "stream",
     "text": [
      "[[20627  1310]\n",
      " [ 2526  3695]]\n",
      "              precision    recall  f1-score   support\n",
      "\n",
      "           0       0.89      0.94      0.91     21937\n",
      "           1       0.74      0.59      0.66      6221\n",
      "\n",
      "    accuracy                           0.86     28158\n",
      "   macro avg       0.81      0.77      0.79     28158\n",
      "weighted avg       0.86      0.86      0.86     28158\n",
      "\n"
     ]
    }
   ],
   "source": [
    "# предсказанные значения нейросети\n",
    "y_pred = (best_model.predict(X_test) > 0.5).astype(\"int32\")\n",
    "# матрицы характеристик\n",
    "print(confusion_matrix(y_test, y_pred))\n",
    "print(classification_report(y_test, y_pred))"
   ]
  },
  {
   "cell_type": "code",
   "execution_count": 40,
   "metadata": {
    "colab": {
     "base_uri": "https://localhost:8080/"
    },
    "id": "2tZ_MG90Cp9y",
    "outputId": "0e4943bb-c96c-4c03-a9f0-5a835db4cca5"
   },
   "outputs": [
    {
     "name": "stdout",
     "output_type": "stream",
     "text": [
      "[[20882  1055]\n",
      " [ 3142  3079]]\n",
      "              precision    recall  f1-score   support\n",
      "\n",
      "           0       0.87      0.95      0.91     21937\n",
      "           1       0.74      0.49      0.59      6221\n",
      "\n",
      "    accuracy                           0.85     28158\n",
      "   macro avg       0.81      0.72      0.75     28158\n",
      "weighted avg       0.84      0.85      0.84     28158\n",
      "\n"
     ]
    }
   ],
   "source": [
    "# предсказанные значения Support Vector Machines\n",
    "y_pred = svc.predict(X_test)\n",
    "# матрицы характеристик\n",
    "print(confusion_matrix(y_test, y_pred))\n",
    "print(classification_report(y_test, y_pred))"
   ]
  },
  {
   "cell_type": "markdown",
   "metadata": {
    "id": "BHjMA7UOD4Bp"
   },
   "source": [
    "Время работы Keras Neural Network - 2min 1s\n",
    "\n",
    "Время работы Support Vector Machines - 1min 15s\n",
    "\n",
    "Support Vector Machines работает быстрее, чем Keras Neural Network\n",
    "\n",
    "Качество работы Keras Neural Network лучше, чем у Support Vector Machines"
   ]
  },
  {
   "cell_type": "markdown",
   "metadata": {
    "id": "1ESas6VWHdIB"
   },
   "source": [
    "Таким образом, можно сделать вывод, что качество работы нейросети, созданной при помощи Keras, выше, чем у других рассмотренных стандартных моделей."
   ]
  }
 ],
 "metadata": {
  "accelerator": "GPU",
  "colab": {
   "collapsed_sections": [],
   "name": "7_nn_keras.ipynb",
   "provenance": []
  },
  "kernelspec": {
   "display_name": "Python 3",
   "language": "python",
   "name": "python3"
  },
  "language_info": {
   "codemirror_mode": {
    "name": "ipython",
    "version": 3
   },
   "file_extension": ".py",
   "mimetype": "text/x-python",
   "name": "python",
   "nbconvert_exporter": "python",
   "pygments_lexer": "ipython3",
   "version": "3.8.3"
  }
 },
 "nbformat": 4,
 "nbformat_minor": 1
}
